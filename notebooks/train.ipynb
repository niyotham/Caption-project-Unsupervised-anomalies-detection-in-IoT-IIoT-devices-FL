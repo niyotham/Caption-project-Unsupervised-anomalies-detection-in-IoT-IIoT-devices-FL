{
 "cells": [
  {
   "cell_type": "code",
   "execution_count": 1,
   "metadata": {},
   "outputs": [],
   "source": [
    "from collections import OrderedDict\n",
    "from typing import List\n",
    "# import flwr as fl\n",
    "import numpy as np\n",
    "import matplotlib.pyplot as plt\n",
    "import torch\n",
    "import torch.nn as nn\n",
    "import pathlib\n",
    "import pandas as pd\n",
    "from models import autoencoder,AE,D_autoencoder\n",
    "# from sklearn.metrics import accuracy_score, precision_score, recall_score\n",
    "import seaborn as sns\n",
    "sns.set()\n",
    "import sys\n",
    "import os\n",
    "sys.path.append('../')\n",
    "sys.path.append(os.path.abspath(os.path.join(\"../scr\")))\n",
    "\n",
    "\n",
    "# # DEVICE = torch.device(\"cpu\")\n",
    "DEVICE = torch.device(\"cuda:0\" if torch.cuda.is_available() else \"cpu\")\n",
    "from flower_utils import train, load_data, test, get_threshold, get_metrics,compute_metrics,plot_cm\n"
   ]
  },
  {
   "attachments": {},
   "cell_type": "markdown",
   "metadata": {},
   "source": [
    "### `Loading  preprocessed training and testing datasets`"
   ]
  },
  {
   "cell_type": "code",
   "execution_count": 2,
   "metadata": {},
   "outputs": [
    {
     "name": "stdout",
     "output_type": "stream",
     "text": [
      "Loading IoT dataset....\n"
     ]
    }
   ],
   "source": [
    "# upload the tarinloader and validloader for training\n",
    "file_path='../dataset/DNN-EdgeIIoT_train_normal.csv'\n",
    "trainloader,valloader,num_examples,trainset,testset=load_data(path=file_path)"
   ]
  },
  {
   "cell_type": "code",
   "execution_count": 3,
   "metadata": {},
   "outputs": [
    {
     "name": "stdout",
     "output_type": "stream",
     "text": [
      "Loading IoT dataset....\n",
      "Getting normal dataset for testing\n"
     ]
    }
   ],
   "source": [
    "# upload the testloader of a normal dataset\n",
    "_,testloader,num_examples,trainset,testset=load_data(path=file_path,testing_type='normal')"
   ]
  },
  {
   "cell_type": "code",
   "execution_count": 4,
   "metadata": {},
   "outputs": [
    {
     "name": "stdout",
     "output_type": "stream",
     "text": [
      "Loading IoT dataset....\n",
      "Getting anomaly dataset for testing\n"
     ]
    }
   ],
   "source": [
    "# upload the testloader of an anomaly dataset\n",
    "_,testloader_an,num_examples,trainset,testset=load_data(path=file_path,testing_type='anormal')"
   ]
  },
  {
   "attachments": {},
   "cell_type": "markdown",
   "metadata": {},
   "source": [
    "### `Centralized training with deoising autoencoder of 128 neurons and botneck of 16 with Tahn function nn.Dropout(0.2)`"
   ]
  },
  {
   "cell_type": "code",
   "execution_count": 6,
   "metadata": {},
   "outputs": [
    {
     "name": "stdout",
     "output_type": "stream",
     "text": [
      "Epoch 1: train loss 4.493222478626907 validation loss 1.5875031141074853\n",
      "Epoch 2: train loss 2.6732571593566234 validation loss 1.3261534477999015\n",
      "Epoch 3: train loss 2.3819660896613297 validation loss 1.182306685329628\n",
      "Epoch 4: train loss 2.2148202331468934 validation loss 1.0697714043207083\n",
      "Epoch 5: train loss 2.0794701517163494 validation loss 0.8485621009863251\n",
      "Epoch 6: train loss 1.926829719345552 validation loss 0.8149674789976382\n",
      "Epoch 7: train loss 1.829699195227296 validation loss 0.7189201406946639\n",
      "Epoch 8: train loss 1.7341352495167168 validation loss 0.6090954732711452\n",
      "Epoch 9: train loss 1.6632263036878443 validation loss 0.64333867668712\n",
      "Epoch 10: train loss 1.6143571966497616 validation loss 0.5783958951270491\n",
      "Epoch 11: train loss 1.5645952388291895 validation loss 0.4826691528368106\n",
      "Epoch 12: train loss 1.5004958582676349 validation loss 0.5505686536610997\n",
      "Epoch 13: train loss 1.4639720771475484 validation loss 0.48063947452006156\n",
      "Epoch 14: train loss 1.4356276922047169 validation loss 0.4366075472099578\n",
      "Epoch 15: train loss 1.4019836592539585 validation loss 0.4159751206773788\n",
      "Epoch 16: train loss 1.3716749227490095 validation loss 0.4277766920927981\n",
      "Epoch 17: train loss 1.3435231642493422 validation loss 0.3911796460031251\n",
      "Epoch 18: train loss 1.3236878130122836 validation loss 0.4011715013492392\n",
      "Epoch 19: train loss 1.295548969046014 validation loss 0.40402314578107895\n",
      "Epoch 20: train loss 1.2758824398768238 validation loss 0.3868152371539389\n",
      "Epoch 21: train loss 1.2521647284126673 validation loss 0.3849241718592298\n",
      "Epoch 22: train loss 1.2435705979646776 validation loss 0.3617863916480719\n",
      "Epoch 23: train loss 1.2260432472907492 validation loss 0.3551144549445295\n",
      "Epoch 24: train loss 1.2128226721187336 validation loss 0.35702955844986084\n",
      "Epoch 25: train loss 1.2157418323172642 validation loss 0.35159156088050303\n",
      "Epoch 26: train loss 1.1927596616725786 validation loss 0.3616452960619528\n",
      "Epoch 27: train loss 1.1862057338261882 validation loss 0.346792945327102\n",
      "Epoch 28: train loss 1.1808131220015718 validation loss 0.35389042970311557\n",
      "Epoch 29: train loss 1.1705120717157702 validation loss 0.3428864799981299\n",
      "Epoch 30: train loss 1.1651939763932033 validation loss 0.345091736800619\n",
      "Epoch 31: train loss 1.166038845033878 validation loss 0.3333579152517788\n",
      "Epoch 32: train loss 1.1469830006368562 validation loss 0.3269615773631105\n",
      "Epoch 33: train loss 1.1507022360328836 validation loss 0.33956245279145547\n",
      "Epoch 34: train loss 1.1412299301935789 validation loss 0.33826706799347445\n",
      "Epoch 35: train loss 1.145355464075751 validation loss 0.3386927128202592\n",
      "Epoch 36: train loss 1.1300903460409746 validation loss 0.324486328958272\n",
      "Epoch 37: train loss 1.1278644291551438 validation loss 0.33199696131949635\n",
      "Epoch 38: train loss 1.133394109523178 validation loss 0.3187597660249645\n",
      "Epoch 39: train loss 1.1377748003787524 validation loss 0.31960198872761514\n",
      "Epoch 40: train loss 1.1327497034771825 validation loss 0.316560636923299\n",
      "Epoch 41: train loss 1.1241619384988066 validation loss 0.3168243606804237\n",
      "Epoch 42: train loss 1.119711201183956 validation loss 0.3189060190285754\n",
      "Epoch 43: train loss 1.1151589699290778 validation loss 0.3168825867609354\n",
      "Epoch 44: train loss 1.1056435390477597 validation loss 0.31225771962252663\n",
      "Epoch 45: train loss 1.109763297564012 validation loss 0.31463823176686706\n",
      "Epoch 46: train loss 1.1100430143716509 validation loss 0.31606814010523543\n",
      "Epoch 47: train loss 1.1200066403199809 validation loss 0.315760332919225\n",
      "Epoch 48: train loss 1.1082688305478143 validation loss 0.31037719072915687\n",
      "Epoch 49: train loss 1.10745105193331 validation loss 0.3121046557309458\n",
      "Epoch 50: train loss 1.1069120019470622 validation loss 0.31082511497163723\n",
      "=> saving checkpoint...\n",
      "save_checkpoint_state Done\n",
      "Loading the checkpoint...\n",
      "Nomal predictions: 6849/6905\n"
     ]
    }
   ],
   "source": [
    "# with deoising autoencoder of 128 neurons and botneck of 16 with Tahn function nn.Dropout(0.2)\n",
    "model=D_autoencoder().to(DEVICE)\n",
    "history,recon_losses,threshold,False_Pos_train,_,accuracy_train=train(model, trainloader,valloader,n_epochs=50)\n"
   ]
  },
  {
   "cell_type": "code",
   "execution_count": 104,
   "metadata": {},
   "outputs": [
    {
     "data": {
      "text/plain": [
       "0.9918899348298335"
      ]
     },
     "execution_count": 104,
     "metadata": {},
     "output_type": "execute_result"
    }
   ],
   "source": [
    "# training acuracy for detecting normal network traffic\n",
    "accuracy_train"
   ]
  },
  {
   "cell_type": "code",
   "execution_count": 5,
   "metadata": {},
   "outputs": [
    {
     "name": "stdout",
     "output_type": "stream",
     "text": [
      "Epoch 1: train loss 20.565184126791856 validation loss 18.01590320886722\n",
      "Epoch 2: train loss 28.43706955095836 validation loss 27.866538572701693\n",
      "Epoch 3: train loss 28.2604478076246 validation loss 24.95462221459322\n",
      "Epoch 4: train loss 25.25220281016482 validation loss 31.782271215957888\n",
      "Epoch 5: train loss 31.740753151797414 validation loss 29.532231300732736\n",
      "=> saving checkpoint...\n",
      "save_checkpoint_state Done\n",
      "Loading the checkpoint...\n",
      "Nomal predictions: 4060/6905\n"
     ]
    }
   ],
   "source": [
    "# # with 256 neuron and botneck of 9 with sigmoid\n",
    "# model=autoencoder().to(DEVICE)\n",
    "# history_train3,threshold3,False_Pos3,False_Pos_rate3,accuracy_train3=train(model, trainloader,valloader,n_epochs=5)"
   ]
  },
  {
   "attachments": {},
   "cell_type": "markdown",
   "metadata": {},
   "source": [
    "### `centralized testing`"
   ]
  },
  {
   "cell_type": "code",
   "execution_count": 101,
   "metadata": {},
   "outputs": [
    {
     "name": "stdout",
     "output_type": "stream",
     "text": [
      "Loading the checkpoint...\n",
      "Nomal predictions: 3436/3453\n"
     ]
    }
   ],
   "source": [
    "# load a thrained model to be used for testing\n",
    "# PATH='model.pth'\n",
    "# model.load_state_dict(torch.load(PATH))\n",
    "# model.eval()\n",
    "# get the metrics for normal dataset\n",
    "threshold, rec_losses_norm,n_features,predicted_norm,accuracy_norm,False_Pos_test=test(\n",
    "    testloader=testloader,test_type='normal',cid=None)"
   ]
  },
  {
   "cell_type": "code",
   "execution_count": 102,
   "metadata": {},
   "outputs": [
    {
     "data": {
      "text/plain": [
       "0.9950767448595425"
      ]
     },
     "execution_count": 102,
     "metadata": {},
     "output_type": "execute_result"
    }
   ],
   "source": [
    "# testing acuracy for detecting normal network traffic\n",
    "accuracy_norm"
   ]
  },
  {
   "cell_type": "code",
   "execution_count": 98,
   "metadata": {},
   "outputs": [
    {
     "name": "stdout",
     "output_type": "stream",
     "text": [
      "Loading the checkpoint...\n",
      "Abnomal predictions: 3453/3453\n"
     ]
    }
   ],
   "source": [
    "# get the metrics for abnormal dataset\n",
    "_, rec_losses_anorm,_,predicted_an,accuracy_an,False_Neg_test=test(testloader_an,test_type='abnormal')"
   ]
  },
  {
   "cell_type": "code",
   "execution_count": 103,
   "metadata": {},
   "outputs": [
    {
     "data": {
      "text/plain": [
       "1.0"
      ]
     },
     "execution_count": 103,
     "metadata": {},
     "output_type": "execute_result"
    }
   ],
   "source": [
    "# testing acuracy for detecting abnormal network traffic\n",
    "accuracy_an"
   ]
  },
  {
   "cell_type": "code",
   "execution_count": 67,
   "metadata": {},
   "outputs": [
    {
     "data": {
      "text/plain": [
       "17"
      ]
     },
     "execution_count": 67,
     "metadata": {},
     "output_type": "execute_result"
    }
   ],
   "source": [
    "False_Pos_test"
   ]
  },
  {
   "cell_type": "code",
   "execution_count": 16,
   "metadata": {},
   "outputs": [
    {
     "name": "stdout",
     "output_type": "stream",
     "text": [
      "Abnomal predictions: 3453/3453\n"
     ]
    },
    {
     "data": {
      "text/plain": [
       "(3453, 1.0, 0)"
      ]
     },
     "execution_count": 16,
     "metadata": {},
     "output_type": "execute_result"
    }
   ],
   "source": [
    "compute_metrics(threshold,rec_losses_anorm, testloader_an,type='abnormal')"
   ]
  },
  {
   "cell_type": "code",
   "execution_count": 106,
   "metadata": {},
   "outputs": [
    {
     "data": {
      "text/plain": [
       "0.9975383724297712"
      ]
     },
     "execution_count": 106,
     "metadata": {},
     "output_type": "execute_result"
    }
   ],
   "source": [
    "# computer accuracy of the centralized model\n",
    "centralized_acc =(predicted_norm + predicted_an)/(predicted_norm + predicted_an + False_Neg_test +False_Pos_test)\n",
    "centralized_acc"
   ]
  },
  {
   "attachments": {},
   "cell_type": "markdown",
   "metadata": {},
   "source": [
    "### `Centralized training with deoising autoencoder of 128 neurons and botneck of 16 with Tahn function nn.Dropout(0.2)`"
   ]
  },
  {
   "cell_type": "code",
   "execution_count": null,
   "metadata": {},
   "outputs": [
    {
     "name": "stdout",
     "output_type": "stream",
     "text": [
      "Epoch 1: train loss 16.918147292996274 validation loss 14.282842332137541\n",
      "Epoch 2: train loss 15.422469409372452 validation loss 14.094305438934654\n",
      "Epoch 3: train loss 14.006692072467926 validation loss 11.20143316319098\n",
      "Epoch 4: train loss 12.606866006092725 validation loss 11.207450321643678\n",
      "Epoch 5: train loss 12.477097530121634 validation loss 11.163446076047691\n",
      "Epoch 6: train loss 12.323779601822531 validation loss 10.481058548994872\n",
      "Epoch 7: train loss 12.171797855083891 validation loss 10.094255970308533\n",
      "Epoch 8: train loss 11.865591489158971 validation loss 9.919430837323743\n",
      "Epoch 9: train loss 11.75190905066073 validation loss 9.976376893099006\n",
      "Epoch 10: train loss 11.71921366251165 validation loss 10.035072790151629\n",
      "Epoch 11: train loss 11.60590837236438 validation loss 9.767316040752481\n",
      "Epoch 12: train loss 11.578564427513003 validation loss 9.596072482149479\n",
      "Epoch 13: train loss 11.231772428980191 validation loss 7.881778170635918\n",
      "Epoch 14: train loss 10.452884766904265 validation loss 7.773876126353077\n",
      "Epoch 15: train loss 10.15899256999854 validation loss 7.589704540950797\n",
      "Epoch 16: train loss 10.020376048371917 validation loss 7.609959628598792\n",
      "Epoch 17: train loss 9.895607103910564 validation loss 7.521888206581189\n",
      "Epoch 18: train loss 9.85057079258952 validation loss 7.465388140623073\n",
      "Epoch 19: train loss 9.856112827630726 validation loss 7.546585650162762\n",
      "Epoch 20: train loss 10.020944963224775 validation loss 7.681652447326205\n",
      "Epoch 21: train loss 9.972058883097215 validation loss 7.773283135109003\n",
      "Epoch 22: train loss 9.951401098527796 validation loss 7.778120837977872\n",
      "Epoch 23: train loss 10.118031057236516 validation loss 8.236633082391728\n",
      "Epoch 24: train loss 10.472365210386766 validation loss 8.261336685845844\n",
      "Epoch 25: train loss 10.52255821999793 validation loss 8.164589335006948\n",
      "Epoch 26: train loss 10.48263551721584 validation loss 8.256746230779271\n",
      "Epoch 27: train loss 10.674550863155389 validation loss 8.299067499486048\n",
      "Epoch 28: train loss 10.690498195927963 validation loss 8.573178094582357\n",
      "Epoch 29: train loss 11.042433236931398 validation loss 8.872046604278449\n",
      "Epoch 30: train loss 11.222207890759682 validation loss 8.690830522662267\n",
      "Epoch 31: train loss 11.342540108762183 validation loss 8.610495219358105\n",
      "Epoch 32: train loss 11.5666062165605 validation loss 8.971695593856474\n",
      "Epoch 33: train loss 11.7596772227654 validation loss 9.05898425945593\n",
      "Epoch 34: train loss 12.019558343390775 validation loss 9.779846509957395\n",
      "Epoch 35: train loss 12.23914300526101 validation loss 9.985075160311764\n",
      "Epoch 36: train loss 12.160293104379422 validation loss 10.086193227419725\n",
      "Epoch 37: train loss 12.146836394858884 validation loss 9.837897525088017\n",
      "Epoch 38: train loss 12.136417268791657 validation loss 9.75624060993258\n",
      "Epoch 39: train loss 12.043899394564766 validation loss 9.761293552839648\n",
      "Epoch 40: train loss 11.986464573721234 validation loss 9.829010992796755\n",
      "Epoch 41: train loss 11.758802097999986 validation loss 8.619307104983221\n",
      "Epoch 42: train loss 11.328671502492076 validation loss 8.135999892836828\n",
      "Epoch 43: train loss 10.95908110351443 validation loss 8.065731671119591\n",
      "Epoch 44: train loss 10.730243645302503 validation loss 8.037812671360808\n",
      "Epoch 45: train loss 10.61395249153791 validation loss 8.04929411020415\n",
      "Epoch 46: train loss 10.53577672946599 validation loss 8.044787854718429\n",
      "Epoch 47: train loss 10.47645634631605 validation loss 8.032737575214709\n",
      "Epoch 48: train loss 10.429215263354372 validation loss 8.041461978191808\n",
      "Epoch 49: train loss 10.39535343045734 validation loss 8.05289581783159\n",
      "Epoch 50: train loss 10.383308441152579 validation loss 8.0592184837944\n",
      "=> saving checkpoint...\n",
      "save_checkpoint_state Done\n",
      "Loading the checkpoint...\n",
      "Nomal predictions: 6746/6905\n"
     ]
    }
   ],
   "source": [
    "# with 128 neuron autoencoder  botneck of 18 with tanh activation fn.\n",
    "model=autoencoder().to(DEVICE)\n",
    "history_train,threshold1,False_Pos1,False_Pos_rate1,accuracy_train1=train(\n",
    "    model, trainloader,valloader,n_epochs=50)"
   ]
  },
  {
   "cell_type": "code",
   "execution_count": 19,
   "metadata": {},
   "outputs": [
    {
     "data": {
      "text/html": [
       "<div>\n",
       "<style scoped>\n",
       "    .dataframe tbody tr th:only-of-type {\n",
       "        vertical-align: middle;\n",
       "    }\n",
       "\n",
       "    .dataframe tbody tr th {\n",
       "        vertical-align: top;\n",
       "    }\n",
       "\n",
       "    .dataframe thead th {\n",
       "        text-align: right;\n",
       "    }\n",
       "</style>\n",
       "<table border=\"1\" class=\"dataframe\">\n",
       "  <thead>\n",
       "    <tr style=\"text-align: right;\">\n",
       "      <th></th>\n",
       "      <th>train_loss</th>\n",
       "      <th>train_valid_loss</th>\n",
       "    </tr>\n",
       "  </thead>\n",
       "  <tbody>\n",
       "  </tbody>\n",
       "</table>\n",
       "</div>"
      ],
      "text/plain": [
       "Empty DataFrame\n",
       "Columns: [train_loss, train_valid_loss]\n",
       "Index: []"
      ]
     },
     "execution_count": 19,
     "metadata": {},
     "output_type": "execute_result"
    }
   ],
   "source": [
    "df_history_mae= pd.DataFrame(history, columns=['train_loss', 'train_valid_loss'])\n",
    "df_history_mae"
   ]
  },
  {
   "cell_type": "code",
   "execution_count": 156,
   "metadata": {},
   "outputs": [
    {
     "data": {
      "image/png": "[encoded data removed]",
      "text/plain": [
       "<Figure size 720x504 with 1 Axes>"
      ]
     },
     "metadata": {},
     "output_type": "display_data"
    }
   ],
   "source": [
    "df_history_mae['train_valid_loss']=history['val']\n",
    "df_history_mae['train_loss']=history['train']\n",
    "# df=df_history_mae.drop('df_history_mae',axis=1,inplace=True)\n",
    "df_history_mae['threshold']= threshold\n",
    "df_history_mae.to_csv('train_128_autoencoder_final.csv', index=False)\n",
    "# plot the cetralized training grapth\n",
    "fig= df_history_mae.iloc[:49,:].plot(figsize=(10, 7)).get_figure().savefig('train_final.jpeg')\n",
    "plt.xlabel('NUMBER OF EPOCH')\n",
    "plt.ylabel('LOSS')\n",
    "plt.title(' Centralized Training reconstruction loss deep autoencoder')\n",
    "\n",
    "plt.show()"
   ]
  },
  {
   "cell_type": "code",
   "execution_count": 152,
   "metadata": {},
   "outputs": [],
   "source": [
    "               \n",
    "def plot_cm(TN,TP,FP,FN, name=None):\n",
    "    ''' A function to plot a Confusion Matrix'''\n",
    "    confusion_matrix = np.zeros((2,2 ))\n",
    "    confusion_matrix[0][0]= float(TN* 100)\n",
    "    confusion_matrix[0][1]= float(FP* 100)\n",
    "    confusion_matrix[1][0]= float(FN* 100)\n",
    "    confusion_matrix[1][1]= float(TP* 100)\n",
    "    df_cm = pd.DataFrame(confusion_matrix, range(2), range(2))\n",
    "    plt.figure(figsize=(10,7))\n",
    "    ax=sns.heatmap(df_cm, vmin=df_cm.values.min(), vmax=1,fmt='.2f', square=True, cmap=\"YlGnBu\",\n",
    "        linewidths=0.1, annot=True, annot_kws={\"fontsize\":12,\"size\": 12}) \n",
    "    cbar = ax.collections[0].colorbar\n",
    "    cbar.set_ticks([0, .2, .75, 1])\n",
    "    cbar.set_ticklabels(['low', '20%', '75%', '100%'])\n",
    "    if name !=None:\n",
    "        plt.title(f'Device id_number {name}\\'s confusion matrix',fontsize=14,fontstyle='italic')\n",
    "        plt.savefig(f'devive_{name}_confusion_matrix.jpeg')\n",
    "    if name ==None:\n",
    "        plt.title(' Centralized confusion matrix',fontsize=14,fontstyle='italic')\n",
    "        plt.savefig('Centralized confusion_matrix.jpeg')\n",
    "    plt.ylabel('True Label',fontsize=14)\n",
    "    plt.xlabel('Predicted Label',fontsize=14)\n",
    "    plt.show()"
   ]
  },
  {
   "cell_type": "code",
   "execution_count": 153,
   "metadata": {},
   "outputs": [
    {
     "data": {
      "image/png": "[encoded data removed]",
      "text/plain": [
       "<Figure size 720x504 with 2 Axes>"
      ]
     },
     "metadata": {},
     "output_type": "display_data"
    }
   ],
   "source": [
    "# compute each metrics for centralized\n",
    "# true negative\n",
    "TN_values=predicted_norm/(predicted_norm + False_Pos_test) \n",
    "# true positive\n",
    "False_Pos= False_Pos_test/(predicted_norm + False_Pos_test)\n",
    "# false positive\n",
    "TP_values=predicted_an/(predicted_an + False_Neg_test)\n",
    "# false negative\n",
    "False_Neg= False_Neg_test/(predicted_an + False_Neg_test)  \n",
    "# plot the confusion matrix\n",
    "plot_cm(TN_values,TP_values,False_Pos,False_Neg, name=None)"
   ]
  },
  {
   "cell_type": "code",
   "execution_count": 35,
   "metadata": {},
   "outputs": [
    {
     "data": {
      "image/png": "[encoded data removed]",
      "text/plain": [
       "<Figure size 720x504 with 1 Axes>"
      ]
     },
     "metadata": {},
     "output_type": "display_data"
    }
   ],
   "source": [
    "# plot the cetralized training grapth\n",
    "fig= df_history_mae.iloc[:49,:].plot(figsize=(10, 7)).get_figure().savefig('train')\n",
    "plt.xlabel('NUMBER OF EPOCH')\n",
    "plt.ylabel('LOSS')\n",
    "plt.title('Training using 128_nuerons autoencoder')\n",
    "\n",
    "plt.show()"
   ]
  },
  {
   "cell_type": "code",
   "execution_count": 23,
   "metadata": {},
   "outputs": [
    {
     "data": {
      "text/html": [
       "<div>\n",
       "<style scoped>\n",
       "    .dataframe tbody tr th:only-of-type {\n",
       "        vertical-align: middle;\n",
       "    }\n",
       "\n",
       "    .dataframe tbody tr th {\n",
       "        vertical-align: top;\n",
       "    }\n",
       "\n",
       "    .dataframe thead th {\n",
       "        text-align: right;\n",
       "    }\n",
       "</style>\n",
       "<table border=\"1\" class=\"dataframe\">\n",
       "  <thead>\n",
       "    <tr style=\"text-align: right;\">\n",
       "      <th></th>\n",
       "      <th>train_loss</th>\n",
       "      <th>train_valid_loss</th>\n",
       "      <th>threshold</th>\n",
       "    </tr>\n",
       "  </thead>\n",
       "  <tbody>\n",
       "    <tr>\n",
       "      <th>0</th>\n",
       "      <td>4.493222</td>\n",
       "      <td>1.587503</td>\n",
       "      <td>1.987483</td>\n",
       "    </tr>\n",
       "    <tr>\n",
       "      <th>1</th>\n",
       "      <td>2.673257</td>\n",
       "      <td>1.326153</td>\n",
       "      <td>1.987483</td>\n",
       "    </tr>\n",
       "    <tr>\n",
       "      <th>2</th>\n",
       "      <td>2.381966</td>\n",
       "      <td>1.182307</td>\n",
       "      <td>1.987483</td>\n",
       "    </tr>\n",
       "    <tr>\n",
       "      <th>3</th>\n",
       "      <td>2.214820</td>\n",
       "      <td>1.069771</td>\n",
       "      <td>1.987483</td>\n",
       "    </tr>\n",
       "    <tr>\n",
       "      <th>4</th>\n",
       "      <td>2.079470</td>\n",
       "      <td>0.848562</td>\n",
       "      <td>1.987483</td>\n",
       "    </tr>\n",
       "    <tr>\n",
       "      <th>5</th>\n",
       "      <td>1.926830</td>\n",
       "      <td>0.814967</td>\n",
       "      <td>1.987483</td>\n",
       "    </tr>\n",
       "    <tr>\n",
       "      <th>6</th>\n",
       "      <td>1.829699</td>\n",
       "      <td>0.718920</td>\n",
       "      <td>1.987483</td>\n",
       "    </tr>\n",
       "    <tr>\n",
       "      <th>7</th>\n",
       "      <td>1.734135</td>\n",
       "      <td>0.609095</td>\n",
       "      <td>1.987483</td>\n",
       "    </tr>\n",
       "    <tr>\n",
       "      <th>8</th>\n",
       "      <td>1.663226</td>\n",
       "      <td>0.643339</td>\n",
       "      <td>1.987483</td>\n",
       "    </tr>\n",
       "    <tr>\n",
       "      <th>9</th>\n",
       "      <td>1.614357</td>\n",
       "      <td>0.578396</td>\n",
       "      <td>1.987483</td>\n",
       "    </tr>\n",
       "    <tr>\n",
       "      <th>10</th>\n",
       "      <td>1.564595</td>\n",
       "      <td>0.482669</td>\n",
       "      <td>1.987483</td>\n",
       "    </tr>\n",
       "    <tr>\n",
       "      <th>11</th>\n",
       "      <td>1.500496</td>\n",
       "      <td>0.550569</td>\n",
       "      <td>1.987483</td>\n",
       "    </tr>\n",
       "    <tr>\n",
       "      <th>12</th>\n",
       "      <td>1.463972</td>\n",
       "      <td>0.480639</td>\n",
       "      <td>1.987483</td>\n",
       "    </tr>\n",
       "    <tr>\n",
       "      <th>13</th>\n",
       "      <td>1.435628</td>\n",
       "      <td>0.436608</td>\n",
       "      <td>1.987483</td>\n",
       "    </tr>\n",
       "    <tr>\n",
       "      <th>14</th>\n",
       "      <td>1.401984</td>\n",
       "      <td>0.415975</td>\n",
       "      <td>1.987483</td>\n",
       "    </tr>\n",
       "    <tr>\n",
       "      <th>15</th>\n",
       "      <td>1.371675</td>\n",
       "      <td>0.427777</td>\n",
       "      <td>1.987483</td>\n",
       "    </tr>\n",
       "    <tr>\n",
       "      <th>16</th>\n",
       "      <td>1.343523</td>\n",
       "      <td>0.391180</td>\n",
       "      <td>1.987483</td>\n",
       "    </tr>\n",
       "    <tr>\n",
       "      <th>17</th>\n",
       "      <td>1.323688</td>\n",
       "      <td>0.401172</td>\n",
       "      <td>1.987483</td>\n",
       "    </tr>\n",
       "    <tr>\n",
       "      <th>18</th>\n",
       "      <td>1.295549</td>\n",
       "      <td>0.404023</td>\n",
       "      <td>1.987483</td>\n",
       "    </tr>\n",
       "    <tr>\n",
       "      <th>19</th>\n",
       "      <td>1.275882</td>\n",
       "      <td>0.386815</td>\n",
       "      <td>1.987483</td>\n",
       "    </tr>\n",
       "    <tr>\n",
       "      <th>20</th>\n",
       "      <td>1.252165</td>\n",
       "      <td>0.384924</td>\n",
       "      <td>1.987483</td>\n",
       "    </tr>\n",
       "    <tr>\n",
       "      <th>21</th>\n",
       "      <td>1.243571</td>\n",
       "      <td>0.361786</td>\n",
       "      <td>1.987483</td>\n",
       "    </tr>\n",
       "    <tr>\n",
       "      <th>22</th>\n",
       "      <td>1.226043</td>\n",
       "      <td>0.355114</td>\n",
       "      <td>1.987483</td>\n",
       "    </tr>\n",
       "    <tr>\n",
       "      <th>23</th>\n",
       "      <td>1.212823</td>\n",
       "      <td>0.357030</td>\n",
       "      <td>1.987483</td>\n",
       "    </tr>\n",
       "    <tr>\n",
       "      <th>24</th>\n",
       "      <td>1.215742</td>\n",
       "      <td>0.351592</td>\n",
       "      <td>1.987483</td>\n",
       "    </tr>\n",
       "    <tr>\n",
       "      <th>25</th>\n",
       "      <td>1.192760</td>\n",
       "      <td>0.361645</td>\n",
       "      <td>1.987483</td>\n",
       "    </tr>\n",
       "    <tr>\n",
       "      <th>26</th>\n",
       "      <td>1.186206</td>\n",
       "      <td>0.346793</td>\n",
       "      <td>1.987483</td>\n",
       "    </tr>\n",
       "    <tr>\n",
       "      <th>27</th>\n",
       "      <td>1.180813</td>\n",
       "      <td>0.353890</td>\n",
       "      <td>1.987483</td>\n",
       "    </tr>\n",
       "    <tr>\n",
       "      <th>28</th>\n",
       "      <td>1.170512</td>\n",
       "      <td>0.342886</td>\n",
       "      <td>1.987483</td>\n",
       "    </tr>\n",
       "    <tr>\n",
       "      <th>29</th>\n",
       "      <td>1.165194</td>\n",
       "      <td>0.345092</td>\n",
       "      <td>1.987483</td>\n",
       "    </tr>\n",
       "    <tr>\n",
       "      <th>30</th>\n",
       "      <td>1.166039</td>\n",
       "      <td>0.333358</td>\n",
       "      <td>1.987483</td>\n",
       "    </tr>\n",
       "    <tr>\n",
       "      <th>31</th>\n",
       "      <td>1.146983</td>\n",
       "      <td>0.326962</td>\n",
       "      <td>1.987483</td>\n",
       "    </tr>\n",
       "    <tr>\n",
       "      <th>32</th>\n",
       "      <td>1.150702</td>\n",
       "      <td>0.339562</td>\n",
       "      <td>1.987483</td>\n",
       "    </tr>\n",
       "    <tr>\n",
       "      <th>33</th>\n",
       "      <td>1.141230</td>\n",
       "      <td>0.338267</td>\n",
       "      <td>1.987483</td>\n",
       "    </tr>\n",
       "    <tr>\n",
       "      <th>34</th>\n",
       "      <td>1.145355</td>\n",
       "      <td>0.338693</td>\n",
       "      <td>1.987483</td>\n",
       "    </tr>\n",
       "    <tr>\n",
       "      <th>35</th>\n",
       "      <td>1.130090</td>\n",
       "      <td>0.324486</td>\n",
       "      <td>1.987483</td>\n",
       "    </tr>\n",
       "    <tr>\n",
       "      <th>36</th>\n",
       "      <td>1.127864</td>\n",
       "      <td>0.331997</td>\n",
       "      <td>1.987483</td>\n",
       "    </tr>\n",
       "    <tr>\n",
       "      <th>37</th>\n",
       "      <td>1.133394</td>\n",
       "      <td>0.318760</td>\n",
       "      <td>1.987483</td>\n",
       "    </tr>\n",
       "    <tr>\n",
       "      <th>38</th>\n",
       "      <td>1.137775</td>\n",
       "      <td>0.319602</td>\n",
       "      <td>1.987483</td>\n",
       "    </tr>\n",
       "    <tr>\n",
       "      <th>39</th>\n",
       "      <td>1.132750</td>\n",
       "      <td>0.316561</td>\n",
       "      <td>1.987483</td>\n",
       "    </tr>\n",
       "    <tr>\n",
       "      <th>40</th>\n",
       "      <td>1.124162</td>\n",
       "      <td>0.316824</td>\n",
       "      <td>1.987483</td>\n",
       "    </tr>\n",
       "    <tr>\n",
       "      <th>41</th>\n",
       "      <td>1.119711</td>\n",
       "      <td>0.318906</td>\n",
       "      <td>1.987483</td>\n",
       "    </tr>\n",
       "    <tr>\n",
       "      <th>42</th>\n",
       "      <td>1.115159</td>\n",
       "      <td>0.316883</td>\n",
       "      <td>1.987483</td>\n",
       "    </tr>\n",
       "    <tr>\n",
       "      <th>43</th>\n",
       "      <td>1.105644</td>\n",
       "      <td>0.312258</td>\n",
       "      <td>1.987483</td>\n",
       "    </tr>\n",
       "    <tr>\n",
       "      <th>44</th>\n",
       "      <td>1.109763</td>\n",
       "      <td>0.314638</td>\n",
       "      <td>1.987483</td>\n",
       "    </tr>\n",
       "    <tr>\n",
       "      <th>45</th>\n",
       "      <td>1.110043</td>\n",
       "      <td>0.316068</td>\n",
       "      <td>1.987483</td>\n",
       "    </tr>\n",
       "    <tr>\n",
       "      <th>46</th>\n",
       "      <td>1.120007</td>\n",
       "      <td>0.315760</td>\n",
       "      <td>1.987483</td>\n",
       "    </tr>\n",
       "    <tr>\n",
       "      <th>47</th>\n",
       "      <td>1.108269</td>\n",
       "      <td>0.310377</td>\n",
       "      <td>1.987483</td>\n",
       "    </tr>\n",
       "    <tr>\n",
       "      <th>48</th>\n",
       "      <td>1.107451</td>\n",
       "      <td>0.312105</td>\n",
       "      <td>1.987483</td>\n",
       "    </tr>\n",
       "    <tr>\n",
       "      <th>49</th>\n",
       "      <td>1.106912</td>\n",
       "      <td>0.310825</td>\n",
       "      <td>1.987483</td>\n",
       "    </tr>\n",
       "  </tbody>\n",
       "</table>\n",
       "</div>"
      ],
      "text/plain": [
       "    train_loss  train_valid_loss  threshold\n",
       "0     4.493222          1.587503   1.987483\n",
       "1     2.673257          1.326153   1.987483\n",
       "2     2.381966          1.182307   1.987483\n",
       "3     2.214820          1.069771   1.987483\n",
       "4     2.079470          0.848562   1.987483\n",
       "5     1.926830          0.814967   1.987483\n",
       "6     1.829699          0.718920   1.987483\n",
       "7     1.734135          0.609095   1.987483\n",
       "8     1.663226          0.643339   1.987483\n",
       "9     1.614357          0.578396   1.987483\n",
       "10    1.564595          0.482669   1.987483\n",
       "11    1.500496          0.550569   1.987483\n",
       "12    1.463972          0.480639   1.987483\n",
       "13    1.435628          0.436608   1.987483\n",
       "14    1.401984          0.415975   1.987483\n",
       "15    1.371675          0.427777   1.987483\n",
       "16    1.343523          0.391180   1.987483\n",
       "17    1.323688          0.401172   1.987483\n",
       "18    1.295549          0.404023   1.987483\n",
       "19    1.275882          0.386815   1.987483\n",
       "20    1.252165          0.384924   1.987483\n",
       "21    1.243571          0.361786   1.987483\n",
       "22    1.226043          0.355114   1.987483\n",
       "23    1.212823          0.357030   1.987483\n",
       "24    1.215742          0.351592   1.987483\n",
       "25    1.192760          0.361645   1.987483\n",
       "26    1.186206          0.346793   1.987483\n",
       "27    1.180813          0.353890   1.987483\n",
       "28    1.170512          0.342886   1.987483\n",
       "29    1.165194          0.345092   1.987483\n",
       "30    1.166039          0.333358   1.987483\n",
       "31    1.146983          0.326962   1.987483\n",
       "32    1.150702          0.339562   1.987483\n",
       "33    1.141230          0.338267   1.987483\n",
       "34    1.145355          0.338693   1.987483\n",
       "35    1.130090          0.324486   1.987483\n",
       "36    1.127864          0.331997   1.987483\n",
       "37    1.133394          0.318760   1.987483\n",
       "38    1.137775          0.319602   1.987483\n",
       "39    1.132750          0.316561   1.987483\n",
       "40    1.124162          0.316824   1.987483\n",
       "41    1.119711          0.318906   1.987483\n",
       "42    1.115159          0.316883   1.987483\n",
       "43    1.105644          0.312258   1.987483\n",
       "44    1.109763          0.314638   1.987483\n",
       "45    1.110043          0.316068   1.987483\n",
       "46    1.120007          0.315760   1.987483\n",
       "47    1.108269          0.310377   1.987483\n",
       "48    1.107451          0.312105   1.987483\n",
       "49    1.106912          0.310825   1.987483"
      ]
     },
     "execution_count": 23,
     "metadata": {},
     "output_type": "execute_result"
    }
   ],
   "source": [
    "pd.read_csv('train_128_autoencoder_final.csv')"
   ]
  },
  {
   "cell_type": "code",
   "execution_count": 109,
   "metadata": {},
   "outputs": [
    {
     "name": "stdout",
     "output_type": "stream",
     "text": [
      "Acuracy: 0.997538\n",
      "Precision: 0.999999\n",
      "Recall: 1.0\n",
      "f1_score: 0.999999\n",
      "False_Pos_rate: 0.004923\n"
     ]
    }
   ],
   "source": [
    "# compute the metrics for cetralized model\n",
    "precision, recall,f1_score= get_metrics(predicted_an,False_Pos,False_Neg)\n",
    "print(f\"Acuracy: { centralized_acc:.6f}\")\n",
    "print(f\"Precision: {precision :.6f}\")\n",
    "print(f\"Recall: {recall :.1f}\")\n",
    "print(f\"f1_score: {f1_score :.6f}\" )\n",
    "\n",
    "False_Pos= False_Pos_test/(predicted_norm + False_Pos_test)\n",
    "print(f\"False_Pos_rate: {False_Pos :.6f}\" )"
   ]
  },
  {
   "attachments": {},
   "cell_type": "markdown",
   "metadata": {},
   "source": [
    "## `Federated averaging FedAvg training results ploting.`\n",
    "\n",
    "- please note that the training of those two devices was done via a terminal\n",
    "- detailed running  is provided in readme file."
   ]
  },
  {
   "cell_type": "code",
   "execution_count": null,
   "metadata": {},
   "outputs": [],
   "source": [
    "# predictions, losses,n_features=predict(path,model,pred_type='validate')\n",
    "save_dir = pathlib.Path(\"results/_results.json\")"
   ]
  },
  {
   "cell_type": "code",
   "execution_count": 25,
   "metadata": {},
   "outputs": [
    {
     "data": {
      "text/html": [
       "<div>\n",
       "<style scoped>\n",
       "    .dataframe tbody tr th:only-of-type {\n",
       "        vertical-align: middle;\n",
       "    }\n",
       "\n",
       "    .dataframe tbody tr th {\n",
       "        vertical-align: top;\n",
       "    }\n",
       "\n",
       "    .dataframe thead th {\n",
       "        text-align: right;\n",
       "    }\n",
       "</style>\n",
       "<table border=\"1\" class=\"dataframe\">\n",
       "  <thead>\n",
       "    <tr style=\"text-align: right;\">\n",
       "      <th></th>\n",
       "      <th>accuracy</th>\n",
       "      <th>precision</th>\n",
       "      <th>recall</th>\n",
       "      <th>f_measure</th>\n",
       "      <th>predicted_norm</th>\n",
       "      <th>pred_anorm</th>\n",
       "      <th>False_Pos</th>\n",
       "      <th>False_Neg</th>\n",
       "      <th>false_rate</th>\n",
       "    </tr>\n",
       "  </thead>\n",
       "  <tbody>\n",
       "    <tr>\n",
       "      <th>0</th>\n",
       "      <td>0.997683</td>\n",
       "      <td>0.979569</td>\n",
       "      <td>1</td>\n",
       "      <td>0.989679</td>\n",
       "      <td>13772</td>\n",
       "      <td>1726</td>\n",
       "      <td>36</td>\n",
       "      <td>0</td>\n",
       "      <td>0.002614</td>\n",
       "    </tr>\n",
       "    <tr>\n",
       "      <th>1</th>\n",
       "      <td>0.997747</td>\n",
       "      <td>0.980125</td>\n",
       "      <td>1</td>\n",
       "      <td>0.989963</td>\n",
       "      <td>13773</td>\n",
       "      <td>1726</td>\n",
       "      <td>35</td>\n",
       "      <td>0</td>\n",
       "      <td>0.002541</td>\n",
       "    </tr>\n",
       "    <tr>\n",
       "      <th>2</th>\n",
       "      <td>0.998262</td>\n",
       "      <td>0.984598</td>\n",
       "      <td>1</td>\n",
       "      <td>0.992239</td>\n",
       "      <td>13781</td>\n",
       "      <td>1726</td>\n",
       "      <td>27</td>\n",
       "      <td>0</td>\n",
       "      <td>0.001959</td>\n",
       "    </tr>\n",
       "    <tr>\n",
       "      <th>3</th>\n",
       "      <td>0.998519</td>\n",
       "      <td>0.986850</td>\n",
       "      <td>1</td>\n",
       "      <td>0.993381</td>\n",
       "      <td>13785</td>\n",
       "      <td>1726</td>\n",
       "      <td>23</td>\n",
       "      <td>0</td>\n",
       "      <td>0.001668</td>\n",
       "    </tr>\n",
       "    <tr>\n",
       "      <th>4</th>\n",
       "      <td>0.998648</td>\n",
       "      <td>0.987979</td>\n",
       "      <td>1</td>\n",
       "      <td>0.993953</td>\n",
       "      <td>13787</td>\n",
       "      <td>1726</td>\n",
       "      <td>21</td>\n",
       "      <td>0</td>\n",
       "      <td>0.001523</td>\n",
       "    </tr>\n",
       "  </tbody>\n",
       "</table>\n",
       "</div>"
      ],
      "text/plain": [
       "   accuracy  precision  recall  f_measure  predicted_norm  pred_anorm  \\\n",
       "0  0.997683   0.979569       1   0.989679           13772        1726   \n",
       "1  0.997747   0.980125       1   0.989963           13773        1726   \n",
       "2  0.998262   0.984598       1   0.992239           13781        1726   \n",
       "3  0.998519   0.986850       1   0.993381           13785        1726   \n",
       "4  0.998648   0.987979       1   0.993953           13787        1726   \n",
       "\n",
       "   False_Pos  False_Neg  false_rate  \n",
       "0         36          0    0.002614  \n",
       "1         35          0    0.002541  \n",
       "2         27          0    0.001959  \n",
       "3         23          0    0.001668  \n",
       "4         21          0    0.001523  "
      ]
     },
     "execution_count": 25,
     "metadata": {},
     "output_type": "execute_result"
    }
   ],
   "source": [
    "# Get the results of client zero\n",
    "df0_result=pd.read_json('/Users/apple/Desktop/flower/results/0_eval_results.json')\n",
    "df0_result['false_rate']=df0_result['False_Pos']/df0_result['predicted_norm']\n",
    "df0_result"
   ]
  },
  {
   "cell_type": "code",
   "execution_count": 262,
   "metadata": {},
   "outputs": [
    {
     "data": {
      "text/html": [
       "<div>\n",
       "<style scoped>\n",
       "    .dataframe tbody tr th:only-of-type {\n",
       "        vertical-align: middle;\n",
       "    }\n",
       "\n",
       "    .dataframe tbody tr th {\n",
       "        vertical-align: top;\n",
       "    }\n",
       "\n",
       "    .dataframe thead th {\n",
       "        text-align: right;\n",
       "    }\n",
       "</style>\n",
       "<table border=\"1\" class=\"dataframe\">\n",
       "  <thead>\n",
       "    <tr style=\"text-align: right;\">\n",
       "      <th></th>\n",
       "      <th>accuracy</th>\n",
       "      <th>precision</th>\n",
       "      <th>recall</th>\n",
       "      <th>f_measure</th>\n",
       "      <th>predicted_norm</th>\n",
       "      <th>pred_anorm</th>\n",
       "      <th>False_Pos</th>\n",
       "      <th>False_Neg</th>\n",
       "      <th>false_rate</th>\n",
       "    </tr>\n",
       "  </thead>\n",
       "  <tbody>\n",
       "    <tr>\n",
       "      <th>0</th>\n",
       "      <td>0.998841</td>\n",
       "      <td>0.989679</td>\n",
       "      <td>1</td>\n",
       "      <td>0.994813</td>\n",
       "      <td>13790</td>\n",
       "      <td>1726</td>\n",
       "      <td>18</td>\n",
       "      <td>0</td>\n",
       "      <td>0.001305</td>\n",
       "    </tr>\n",
       "    <tr>\n",
       "      <th>1</th>\n",
       "      <td>0.998970</td>\n",
       "      <td>0.990815</td>\n",
       "      <td>1</td>\n",
       "      <td>0.995386</td>\n",
       "      <td>13792</td>\n",
       "      <td>1726</td>\n",
       "      <td>16</td>\n",
       "      <td>0</td>\n",
       "      <td>0.001160</td>\n",
       "    </tr>\n",
       "    <tr>\n",
       "      <th>2</th>\n",
       "      <td>0.999099</td>\n",
       "      <td>0.991954</td>\n",
       "      <td>1</td>\n",
       "      <td>0.995961</td>\n",
       "      <td>13794</td>\n",
       "      <td>1726</td>\n",
       "      <td>14</td>\n",
       "      <td>0</td>\n",
       "      <td>0.001015</td>\n",
       "    </tr>\n",
       "    <tr>\n",
       "      <th>3</th>\n",
       "      <td>0.999034</td>\n",
       "      <td>0.991384</td>\n",
       "      <td>1</td>\n",
       "      <td>0.995673</td>\n",
       "      <td>13793</td>\n",
       "      <td>1726</td>\n",
       "      <td>15</td>\n",
       "      <td>0</td>\n",
       "      <td>0.001088</td>\n",
       "    </tr>\n",
       "    <tr>\n",
       "      <th>4</th>\n",
       "      <td>0.999034</td>\n",
       "      <td>0.991384</td>\n",
       "      <td>1</td>\n",
       "      <td>0.995673</td>\n",
       "      <td>13793</td>\n",
       "      <td>1726</td>\n",
       "      <td>15</td>\n",
       "      <td>0</td>\n",
       "      <td>0.001088</td>\n",
       "    </tr>\n",
       "  </tbody>\n",
       "</table>\n",
       "</div>"
      ],
      "text/plain": [
       "   accuracy  precision  recall  f_measure  predicted_norm  pred_anorm  \\\n",
       "0  0.998841   0.989679       1   0.994813           13790        1726   \n",
       "1  0.998970   0.990815       1   0.995386           13792        1726   \n",
       "2  0.999099   0.991954       1   0.995961           13794        1726   \n",
       "3  0.999034   0.991384       1   0.995673           13793        1726   \n",
       "4  0.999034   0.991384       1   0.995673           13793        1726   \n",
       "\n",
       "   False_Pos  False_Neg  false_rate  \n",
       "0         18          0    0.001305  \n",
       "1         16          0    0.001160  \n",
       "2         14          0    0.001015  \n",
       "3         15          0    0.001088  \n",
       "4         15          0    0.001088  "
      ]
     },
     "execution_count": 262,
     "metadata": {},
     "output_type": "execute_result"
    }
   ],
   "source": [
    "# Get the results of client zero\n",
    "df0_reult=pd.read_json('/Users/apple/Desktop/flower/results/0_eval_results.json')\n",
    "df0_reult['false_rate']=df0_reult['False_Pos']/df0_reult['predicted_norm']\n",
    "df0_reult"
   ]
  },
  {
   "cell_type": "code",
   "execution_count": 222,
   "metadata": {},
   "outputs": [
    {
     "data": {
      "text/html": [
       "<div>\n",
       "<style scoped>\n",
       "    .dataframe tbody tr th:only-of-type {\n",
       "        vertical-align: middle;\n",
       "    }\n",
       "\n",
       "    .dataframe tbody tr th {\n",
       "        vertical-align: top;\n",
       "    }\n",
       "\n",
       "    .dataframe thead th {\n",
       "        text-align: right;\n",
       "    }\n",
       "</style>\n",
       "<table border=\"1\" class=\"dataframe\">\n",
       "  <thead>\n",
       "    <tr style=\"text-align: right;\">\n",
       "      <th></th>\n",
       "      <th>accuracy</th>\n",
       "      <th>precision</th>\n",
       "      <th>recall</th>\n",
       "      <th>f_measure</th>\n",
       "      <th>predicted_norm</th>\n",
       "      <th>pred_anorm</th>\n",
       "      <th>False_Pos</th>\n",
       "      <th>false_rate</th>\n",
       "    </tr>\n",
       "  </thead>\n",
       "  <tbody>\n",
       "    <tr>\n",
       "      <th>0</th>\n",
       "      <td>0.998004</td>\n",
       "      <td>0.982356</td>\n",
       "      <td>1</td>\n",
       "      <td>0.991100</td>\n",
       "      <td>13777</td>\n",
       "      <td>1726</td>\n",
       "      <td>31</td>\n",
       "      <td>0.002250</td>\n",
       "    </tr>\n",
       "    <tr>\n",
       "      <th>1</th>\n",
       "      <td>0.998198</td>\n",
       "      <td>0.984036</td>\n",
       "      <td>1</td>\n",
       "      <td>0.991954</td>\n",
       "      <td>13780</td>\n",
       "      <td>1726</td>\n",
       "      <td>28</td>\n",
       "      <td>0.002032</td>\n",
       "    </tr>\n",
       "    <tr>\n",
       "      <th>2</th>\n",
       "      <td>0.997876</td>\n",
       "      <td>0.981239</td>\n",
       "      <td>1</td>\n",
       "      <td>0.990531</td>\n",
       "      <td>13775</td>\n",
       "      <td>1726</td>\n",
       "      <td>33</td>\n",
       "      <td>0.002396</td>\n",
       "    </tr>\n",
       "    <tr>\n",
       "      <th>3</th>\n",
       "      <td>0.998262</td>\n",
       "      <td>0.984598</td>\n",
       "      <td>1</td>\n",
       "      <td>0.992239</td>\n",
       "      <td>13781</td>\n",
       "      <td>1726</td>\n",
       "      <td>27</td>\n",
       "      <td>0.001959</td>\n",
       "    </tr>\n",
       "    <tr>\n",
       "      <th>4</th>\n",
       "      <td>0.997683</td>\n",
       "      <td>0.979569</td>\n",
       "      <td>1</td>\n",
       "      <td>0.989679</td>\n",
       "      <td>13772</td>\n",
       "      <td>1726</td>\n",
       "      <td>36</td>\n",
       "      <td>0.002614</td>\n",
       "    </tr>\n",
       "  </tbody>\n",
       "</table>\n",
       "</div>"
      ],
      "text/plain": [
       "   accuracy  precision  recall  f_measure  predicted_norm  pred_anorm  \\\n",
       "0  0.998004   0.982356       1   0.991100           13777        1726   \n",
       "1  0.998198   0.984036       1   0.991954           13780        1726   \n",
       "2  0.997876   0.981239       1   0.990531           13775        1726   \n",
       "3  0.998262   0.984598       1   0.992239           13781        1726   \n",
       "4  0.997683   0.979569       1   0.989679           13772        1726   \n",
       "\n",
       "   False_Pos  false_rate  \n",
       "0         31    0.002250  \n",
       "1         28    0.002032  \n",
       "2         33    0.002396  \n",
       "3         27    0.001959  \n",
       "4         36    0.002614  "
      ]
     },
     "execution_count": 222,
     "metadata": {},
     "output_type": "execute_result"
    }
   ],
   "source": [
    "df0_reult=pd.read_json('/Users/apple/Desktop/flower/results/0_eval_results.json')\n",
    "df0_reult['false_rate']=df0_reult['False_Pos']/df0_reult['predicted_norm']\n",
    "df0_reult"
   ]
  },
  {
   "cell_type": "code",
   "execution_count": 359,
   "metadata": {},
   "outputs": [
    {
     "name": "stdout",
     "output_type": "stream",
     "text": [
      " Number of TN  99.88702201622249\n",
      " Number of TP  100.0\n",
      " Number of False_Pos  0.11297798377752027\n",
      " Number of False_Neg  0.0\n"
     ]
    },
    {
     "data": {
      "image/png": "[encoded data removed]",
      "text/plain": [
       "<Figure size 720x504 with 2 Axes>"
      ]
     },
     "metadata": {},
     "output_type": "display_data"
    }
   ],
   "source": [
    "#  PLOT THE CONFUSION MATRIX OF EACH DEVICE\n",
    "def plot_device_avg_metrics(df_data, device_name):\n",
    "    avg_TN=df_data['predicted_norm'].mean()/ (df_data['predicted_norm'].mean() + df_data['False_Pos'].mean())\n",
    "    print(f' Number of TN  {avg_TN * 100}')\n",
    "    avg_TP=df_data['pred_anorm'].mean()/(df_data['pred_anorm'].mean() + df_data['False_Neg'].mean())\n",
    "    print(f' Number of TP  {avg_TP * 100}')\n",
    "    avg_FP=df_data['False_Pos'].mean()/(df_data['predicted_norm'].mean() + df_data['False_Pos'].mean())\n",
    "    print(f' Number of False_Pos  {avg_FP * 100}')\n",
    "    avg_FN=df_data['False_Neg'].mean()/(df_data['pred_anorm'].mean() + df_data['False_Neg'].mean())\n",
    "    print(f' Number of False_Neg  {avg_FN * 100}')\n",
    "    plot_cm(avg_TN,avg_TP,avg_FP,avg_FN, device_name)\n",
    "\n",
    "plot_device_avg_metrics(df0_reult,'Zero')\n",
    "plot_device_avg_metrics(df0_result,'Zero')\n"
   ]
  },
  {
   "cell_type": "code",
   "execution_count": 86,
   "metadata": {},
   "outputs": [
    {
     "name": "stdout",
     "output_type": "stream",
     "text": [
      " Number of TN  99.79432213209734\n",
      " Number of TP  100.0\n",
      " Number of False_Pos  0.20567786790266512\n",
      " Number of False_Neg  0.0\n"
     ]
    },
    {
     "data": {
      "image/png": "[encoded data removed]",
      "text/plain": [
       "<Figure size 720x504 with 2 Axes>"
      ]
     },
     "metadata": {},
     "output_type": "display_data"
    }
   ],
   "source": [
    "def plot_device_avg_metrics(df_data, device_name):\n",
    "    '''A helper function for specificaly plot FL matrixes of each device '''\n",
    "    avg_TN=df_data['predicted_norm'].mean()/ (df_data['predicted_norm'].mean() + df_data['False_Pos'].mean())\n",
    "    print(f' Number of TN  {avg_TN * 100}')\n",
    "    avg_TP=df_data['pred_anorm'].mean()/(df_data['pred_anorm'].mean() + df_data['False_Neg'].mean())\n",
    "    print(f' Number of TP  {avg_TP * 100}')\n",
    "    avg_FP=df_data['False_Pos'].mean()/(df_data['predicted_norm'].mean() + df_data['False_Pos'].mean())\n",
    "    print(f' Number of False_Pos  {avg_FP * 100}')\n",
    "    avg_FN=df_data['False_Neg'].mean()/(df_data['pred_anorm'].mean() + df_data['False_Neg'].mean())\n",
    "    print(f' Number of False_Neg  {avg_FN * 100}')\n",
    "    plot_cm(avg_TN,avg_TP,avg_FP,avg_FN, device_name)\n",
    "plot_device_avg_metrics(df0_result,0)"
   ]
  },
  {
   "cell_type": "code",
   "execution_count": 329,
   "metadata": {},
   "outputs": [
    {
     "data": {
      "image/png": "[encoded data removed]",
      "text/plain": [
       "<Figure size 432x288 with 2 Axes>"
      ]
     },
     "metadata": {},
     "output_type": "display_data"
    }
   ],
   "source": [
    "# from flower_utils  import plot_cm\n",
    "# plot the confusion matrix\n",
    "# compute the average of TN,TP,FP and FN  for the round trained for.\n",
    "\n",
    "# avg_TN=df0_reult['predicted_norm'].mean()\n",
    "# avg_TP=df0_reult['pred_anorm'].mean()\n",
    "# avg_FP=df0_reult['False_Pos'].mean()\n",
    "# avg_FN=df0_reult['False_Neg'].mean()\n",
    "\n",
    "plot_cm(avg_TN,avg_TP,avg_FP,avg_FN, 'Zero')"
   ]
  },
  {
   "cell_type": "code",
   "execution_count": 243,
   "metadata": {},
   "outputs": [
    {
     "data": {
      "text/plain": [
       "accuracy      0.998996\n",
       "precision     0.991043\n",
       "recall        1.000000\n",
       "f_measure     0.995501\n",
       "false_rate    0.001131\n",
       "dtype: float64"
      ]
     },
     "execution_count": 243,
     "metadata": {},
     "output_type": "execute_result"
    }
   ],
   "source": [
    "# the imortant metrics for client with id zero\n",
    "df=df0_reult[['accuracy', 'precision', 'recall', 'f_measure', 'false_rate']].mean()\n",
    "# df.to_excel()\n",
    "df"
   ]
  },
  {
   "cell_type": "code",
   "execution_count": 244,
   "metadata": {},
   "outputs": [
    {
     "data": {
      "text/html": [
       "<div>\n",
       "<style scoped>\n",
       "    .dataframe tbody tr th:only-of-type {\n",
       "        vertical-align: middle;\n",
       "    }\n",
       "\n",
       "    .dataframe tbody tr th {\n",
       "        vertical-align: top;\n",
       "    }\n",
       "\n",
       "    .dataframe thead th {\n",
       "        text-align: right;\n",
       "    }\n",
       "</style>\n",
       "<table border=\"1\" class=\"dataframe\">\n",
       "  <thead>\n",
       "    <tr style=\"text-align: right;\">\n",
       "      <th></th>\n",
       "      <th>accuracy</th>\n",
       "      <th>precision</th>\n",
       "      <th>recall</th>\n",
       "      <th>f_measure</th>\n",
       "      <th>predicted_norm</th>\n",
       "      <th>pred_anorm</th>\n",
       "      <th>False_Pos</th>\n",
       "      <th>False_Neg</th>\n",
       "      <th>false_rate</th>\n",
       "    </tr>\n",
       "  </thead>\n",
       "  <tbody>\n",
       "    <tr>\n",
       "      <th>0</th>\n",
       "      <td>0.999228</td>\n",
       "      <td>0.993096</td>\n",
       "      <td>1</td>\n",
       "      <td>0.996536</td>\n",
       "      <td>13796</td>\n",
       "      <td>1726</td>\n",
       "      <td>12</td>\n",
       "      <td>0</td>\n",
       "      <td>0.000870</td>\n",
       "    </tr>\n",
       "    <tr>\n",
       "      <th>1</th>\n",
       "      <td>0.998970</td>\n",
       "      <td>0.990815</td>\n",
       "      <td>1</td>\n",
       "      <td>0.995386</td>\n",
       "      <td>13792</td>\n",
       "      <td>1726</td>\n",
       "      <td>16</td>\n",
       "      <td>0</td>\n",
       "      <td>0.001160</td>\n",
       "    </tr>\n",
       "    <tr>\n",
       "      <th>2</th>\n",
       "      <td>0.999099</td>\n",
       "      <td>0.991954</td>\n",
       "      <td>1</td>\n",
       "      <td>0.995961</td>\n",
       "      <td>13794</td>\n",
       "      <td>1726</td>\n",
       "      <td>14</td>\n",
       "      <td>0</td>\n",
       "      <td>0.001015</td>\n",
       "    </tr>\n",
       "    <tr>\n",
       "      <th>3</th>\n",
       "      <td>0.998906</td>\n",
       "      <td>0.990247</td>\n",
       "      <td>1</td>\n",
       "      <td>0.995099</td>\n",
       "      <td>13791</td>\n",
       "      <td>1726</td>\n",
       "      <td>17</td>\n",
       "      <td>0</td>\n",
       "      <td>0.001233</td>\n",
       "    </tr>\n",
       "    <tr>\n",
       "      <th>4</th>\n",
       "      <td>0.999099</td>\n",
       "      <td>0.991954</td>\n",
       "      <td>1</td>\n",
       "      <td>0.995961</td>\n",
       "      <td>13794</td>\n",
       "      <td>1726</td>\n",
       "      <td>14</td>\n",
       "      <td>0</td>\n",
       "      <td>0.001015</td>\n",
       "    </tr>\n",
       "  </tbody>\n",
       "</table>\n",
       "</div>"
      ],
      "text/plain": [
       "   accuracy  precision  recall  f_measure  predicted_norm  pred_anorm  \\\n",
       "0  0.999228   0.993096       1   0.996536           13796        1726   \n",
       "1  0.998970   0.990815       1   0.995386           13792        1726   \n",
       "2  0.999099   0.991954       1   0.995961           13794        1726   \n",
       "3  0.998906   0.990247       1   0.995099           13791        1726   \n",
       "4  0.999099   0.991954       1   0.995961           13794        1726   \n",
       "\n",
       "   False_Pos  False_Neg  false_rate  \n",
       "0         12          0    0.000870  \n",
       "1         16          0    0.001160  \n",
       "2         14          0    0.001015  \n",
       "3         17          0    0.001233  \n",
       "4         14          0    0.001015  "
      ]
     },
     "execution_count": 244,
     "metadata": {},
     "output_type": "execute_result"
    }
   ],
   "source": [
    "# Get the results of client one\n",
    "df1_reult=pd.read_json('/Users/apple/Desktop/flower/results/1_eval_results.json')\n",
    "df1_reult['false_rate']=df1_reult['False_Pos']/df1_reult['predicted_norm']\n",
    "df1_reult"
   ]
  },
  {
   "cell_type": "code",
   "execution_count": 220,
   "metadata": {},
   "outputs": [
    {
     "data": {
      "text/html": [
       "<div>\n",
       "<style scoped>\n",
       "    .dataframe tbody tr th:only-of-type {\n",
       "        vertical-align: middle;\n",
       "    }\n",
       "\n",
       "    .dataframe tbody tr th {\n",
       "        vertical-align: top;\n",
       "    }\n",
       "\n",
       "    .dataframe thead th {\n",
       "        text-align: right;\n",
       "    }\n",
       "</style>\n",
       "<table border=\"1\" class=\"dataframe\">\n",
       "  <thead>\n",
       "    <tr style=\"text-align: right;\">\n",
       "      <th></th>\n",
       "      <th>accuracy</th>\n",
       "      <th>precision</th>\n",
       "      <th>recall</th>\n",
       "      <th>f_measure</th>\n",
       "      <th>predicted_norm</th>\n",
       "      <th>pred_anorm</th>\n",
       "      <th>False_Pos</th>\n",
       "      <th>false_rate</th>\n",
       "    </tr>\n",
       "  </thead>\n",
       "  <tbody>\n",
       "    <tr>\n",
       "      <th>0</th>\n",
       "      <td>0.998584</td>\n",
       "      <td>0.987414</td>\n",
       "      <td>1</td>\n",
       "      <td>0.993667</td>\n",
       "      <td>13786</td>\n",
       "      <td>1726</td>\n",
       "      <td>22</td>\n",
       "      <td>0.001596</td>\n",
       "    </tr>\n",
       "    <tr>\n",
       "      <th>1</th>\n",
       "      <td>0.999421</td>\n",
       "      <td>0.994813</td>\n",
       "      <td>1</td>\n",
       "      <td>0.997400</td>\n",
       "      <td>13799</td>\n",
       "      <td>1726</td>\n",
       "      <td>9</td>\n",
       "      <td>0.000652</td>\n",
       "    </tr>\n",
       "    <tr>\n",
       "      <th>2</th>\n",
       "      <td>0.999228</td>\n",
       "      <td>0.993096</td>\n",
       "      <td>1</td>\n",
       "      <td>0.996536</td>\n",
       "      <td>13796</td>\n",
       "      <td>1726</td>\n",
       "      <td>12</td>\n",
       "      <td>0.000870</td>\n",
       "    </tr>\n",
       "    <tr>\n",
       "      <th>3</th>\n",
       "      <td>0.999292</td>\n",
       "      <td>0.993667</td>\n",
       "      <td>1</td>\n",
       "      <td>0.996824</td>\n",
       "      <td>13797</td>\n",
       "      <td>1726</td>\n",
       "      <td>11</td>\n",
       "      <td>0.000797</td>\n",
       "    </tr>\n",
       "    <tr>\n",
       "      <th>4</th>\n",
       "      <td>0.999228</td>\n",
       "      <td>0.993096</td>\n",
       "      <td>1</td>\n",
       "      <td>0.996536</td>\n",
       "      <td>13796</td>\n",
       "      <td>1726</td>\n",
       "      <td>12</td>\n",
       "      <td>0.000870</td>\n",
       "    </tr>\n",
       "  </tbody>\n",
       "</table>\n",
       "</div>"
      ],
      "text/plain": [
       "   accuracy  precision  recall  f_measure  predicted_norm  pred_anorm  \\\n",
       "0  0.998584   0.987414       1   0.993667           13786        1726   \n",
       "1  0.999421   0.994813       1   0.997400           13799        1726   \n",
       "2  0.999228   0.993096       1   0.996536           13796        1726   \n",
       "3  0.999292   0.993667       1   0.996824           13797        1726   \n",
       "4  0.999228   0.993096       1   0.996536           13796        1726   \n",
       "\n",
       "   False_Pos  false_rate  \n",
       "0         22    0.001596  \n",
       "1          9    0.000652  \n",
       "2         12    0.000870  \n",
       "3         11    0.000797  \n",
       "4         12    0.000870  "
      ]
     },
     "execution_count": 220,
     "metadata": {},
     "output_type": "execute_result"
    }
   ],
   "source": [
    "# Get the results of client one\n",
    "# df1_reult=pd.read_json('/Users/apple/Desktop/flower/results/1_eval_results.json')\n",
    "# df1_reult=pd.read_json('../results/1_eval_results.json')\n",
    "df1_reult['false_rate']=df1_reult['False_Pos']/df1_reult['predicted_norm']\n",
    "df1_reult"
   ]
  },
  {
   "cell_type": "code",
   "execution_count": 275,
   "metadata": {},
   "outputs": [
    {
     "data": {
      "image/png": "[encoded data removed]",
      "text/plain": [
       "<Figure size 432x288 with 2 Axes>"
      ]
     },
     "metadata": {},
     "output_type": "display_data"
    }
   ],
   "source": [
    "# compute the average of TN,TP,FP and FN  for the round trained for.\n",
    "avg_TN=df1_reult['predicted_norm'].mean()\n",
    "avg_TP=df1_reult['pred_anorm'].mean()\n",
    "avg_FP=df1_reult['False_Pos'].mean()\n",
    "avg_FN=df1_reult['False_Neg'].mean()\n",
    "\n",
    "plot_cm(avg_TN,avg_TP,avg_FP,avg_FN, 'One')"
   ]
  },
  {
   "cell_type": "code",
   "execution_count": 87,
   "metadata": {},
   "outputs": [
    {
     "data": {
      "text/html": [
       "<div>\n",
       "<style scoped>\n",
       "    .dataframe tbody tr th:only-of-type {\n",
       "        vertical-align: middle;\n",
       "    }\n",
       "\n",
       "    .dataframe tbody tr th {\n",
       "        vertical-align: top;\n",
       "    }\n",
       "\n",
       "    .dataframe thead th {\n",
       "        text-align: right;\n",
       "    }\n",
       "</style>\n",
       "<table border=\"1\" class=\"dataframe\">\n",
       "  <thead>\n",
       "    <tr style=\"text-align: right;\">\n",
       "      <th></th>\n",
       "      <th>accuracy</th>\n",
       "      <th>precision</th>\n",
       "      <th>recall</th>\n",
       "      <th>f_measure</th>\n",
       "      <th>predicted_norm</th>\n",
       "      <th>pred_anorm</th>\n",
       "      <th>False_Pos</th>\n",
       "      <th>False_Neg</th>\n",
       "      <th>false_rate</th>\n",
       "    </tr>\n",
       "  </thead>\n",
       "  <tbody>\n",
       "    <tr>\n",
       "      <th>0</th>\n",
       "      <td>0.998648</td>\n",
       "      <td>0.987979</td>\n",
       "      <td>1</td>\n",
       "      <td>0.993953</td>\n",
       "      <td>13787</td>\n",
       "      <td>1726</td>\n",
       "      <td>21</td>\n",
       "      <td>0</td>\n",
       "      <td>0.001523</td>\n",
       "    </tr>\n",
       "    <tr>\n",
       "      <th>1</th>\n",
       "      <td>0.998777</td>\n",
       "      <td>0.989112</td>\n",
       "      <td>1</td>\n",
       "      <td>0.994526</td>\n",
       "      <td>13789</td>\n",
       "      <td>1726</td>\n",
       "      <td>19</td>\n",
       "      <td>0</td>\n",
       "      <td>0.001378</td>\n",
       "    </tr>\n",
       "    <tr>\n",
       "      <th>2</th>\n",
       "      <td>0.998713</td>\n",
       "      <td>0.988545</td>\n",
       "      <td>1</td>\n",
       "      <td>0.994240</td>\n",
       "      <td>13788</td>\n",
       "      <td>1726</td>\n",
       "      <td>20</td>\n",
       "      <td>0</td>\n",
       "      <td>0.001451</td>\n",
       "    </tr>\n",
       "    <tr>\n",
       "      <th>3</th>\n",
       "      <td>0.999034</td>\n",
       "      <td>0.991384</td>\n",
       "      <td>1</td>\n",
       "      <td>0.995673</td>\n",
       "      <td>13793</td>\n",
       "      <td>1726</td>\n",
       "      <td>15</td>\n",
       "      <td>0</td>\n",
       "      <td>0.001088</td>\n",
       "    </tr>\n",
       "    <tr>\n",
       "      <th>4</th>\n",
       "      <td>0.998970</td>\n",
       "      <td>0.990815</td>\n",
       "      <td>1</td>\n",
       "      <td>0.995386</td>\n",
       "      <td>13792</td>\n",
       "      <td>1726</td>\n",
       "      <td>16</td>\n",
       "      <td>0</td>\n",
       "      <td>0.001160</td>\n",
       "    </tr>\n",
       "  </tbody>\n",
       "</table>\n",
       "</div>"
      ],
      "text/plain": [
       "   accuracy  precision  recall  f_measure  predicted_norm  pred_anorm  \\\n",
       "0  0.998648   0.987979       1   0.993953           13787        1726   \n",
       "1  0.998777   0.989112       1   0.994526           13789        1726   \n",
       "2  0.998713   0.988545       1   0.994240           13788        1726   \n",
       "3  0.999034   0.991384       1   0.995673           13793        1726   \n",
       "4  0.998970   0.990815       1   0.995386           13792        1726   \n",
       "\n",
       "   False_Pos  False_Neg  false_rate  \n",
       "0         21          0    0.001523  \n",
       "1         19          0    0.001378  \n",
       "2         20          0    0.001451  \n",
       "3         15          0    0.001088  \n",
       "4         16          0    0.001160  "
      ]
     },
     "execution_count": 87,
     "metadata": {},
     "output_type": "execute_result"
    }
   ],
   "source": [
    "# Get the results of client one\n",
    "df1_result=pd.read_json('../results/1_eval_results.json')\n",
    "df1_result['false_rate']=df1_result['False_Pos']/df1_result['predicted_norm']\n",
    "df1_result"
   ]
  },
  {
   "cell_type": "code",
   "execution_count": 88,
   "metadata": {},
   "outputs": [
    {
     "name": "stdout",
     "output_type": "stream",
     "text": [
      " Number of TN  99.86819235225956\n",
      " Number of TP  100.0\n",
      " Number of False_Pos  0.13180764774044032\n",
      " Number of False_Neg  0.0\n"
     ]
    },
    {
     "data": {
      "image/png": "[encoded data removed]",
      "text/plain": [
       "<Figure size 720x504 with 2 Axes>"
      ]
     },
     "metadata": {},
     "output_type": "display_data"
    }
   ],
   "source": [
    "plot_device_avg_metrics(df1_result,1)"
   ]
  },
  {
   "cell_type": "code",
   "execution_count": 360,
   "metadata": {},
   "outputs": [
    {
     "name": "stdout",
     "output_type": "stream",
     "text": [
      " Number of TN  99.89426419466976\n",
      " Number of TP  100.0\n",
      " Number of False_Pos  0.10573580533024335\n",
      " Number of False_Neg  0.0\n"
     ]
    },
    {
     "data": {
      "image/png": "[encoded data removed]",
      "text/plain": [
       "<Figure size 720x504 with 2 Axes>"
      ]
     },
     "metadata": {},
     "output_type": "display_data"
    }
   ],
   "source": [
    "plot_device_avg_metrics(df1_result,1)"
   ]
  },
  {
   "cell_type": "code",
   "execution_count": 89,
   "metadata": {},
   "outputs": [
    {
     "data": {
      "text/plain": [
       "accuracy      0.998828\n",
       "precision     0.989567\n",
       "recall        1.000000\n",
       "f_measure     0.994756\n",
       "false_rate    0.001320\n",
       "dtype: float64"
      ]
     },
     "execution_count": 89,
     "metadata": {},
     "output_type": "execute_result"
    }
   ],
   "source": [
    "# get the averaged metrics for Device 1 over five rounds\n",
    "df1=df1_result[['accuracy', 'precision', 'recall', 'f_measure', 'false_rate']].mean()\n",
    "df1"
   ]
  },
  {
   "cell_type": "code",
   "execution_count": 93,
   "metadata": {},
   "outputs": [
    {
     "data": {
      "text/html": [
       "<div>\n",
       "<style scoped>\n",
       "    .dataframe tbody tr th:only-of-type {\n",
       "        vertical-align: middle;\n",
       "    }\n",
       "\n",
       "    .dataframe tbody tr th {\n",
       "        vertical-align: top;\n",
       "    }\n",
       "\n",
       "    .dataframe thead th {\n",
       "        text-align: right;\n",
       "    }\n",
       "</style>\n",
       "<table border=\"1\" class=\"dataframe\">\n",
       "  <thead>\n",
       "    <tr style=\"text-align: right;\">\n",
       "      <th></th>\n",
       "      <th>accuracy</th>\n",
       "      <th>precision</th>\n",
       "      <th>recall</th>\n",
       "      <th>f_measure</th>\n",
       "      <th>predicted_norm</th>\n",
       "      <th>pred_anorm</th>\n",
       "      <th>False_Pos</th>\n",
       "      <th>False_Neg</th>\n",
       "      <th>false_rate</th>\n",
       "    </tr>\n",
       "  </thead>\n",
       "  <tbody>\n",
       "    <tr>\n",
       "      <th>0</th>\n",
       "      <td>0.997683</td>\n",
       "      <td>0.979569</td>\n",
       "      <td>1</td>\n",
       "      <td>0.989679</td>\n",
       "      <td>13772</td>\n",
       "      <td>1726</td>\n",
       "      <td>36</td>\n",
       "      <td>0</td>\n",
       "      <td>0.002614</td>\n",
       "    </tr>\n",
       "    <tr>\n",
       "      <th>1</th>\n",
       "      <td>0.997747</td>\n",
       "      <td>0.980125</td>\n",
       "      <td>1</td>\n",
       "      <td>0.989963</td>\n",
       "      <td>13773</td>\n",
       "      <td>1726</td>\n",
       "      <td>35</td>\n",
       "      <td>0</td>\n",
       "      <td>0.002541</td>\n",
       "    </tr>\n",
       "    <tr>\n",
       "      <th>2</th>\n",
       "      <td>0.998262</td>\n",
       "      <td>0.984598</td>\n",
       "      <td>1</td>\n",
       "      <td>0.992239</td>\n",
       "      <td>13781</td>\n",
       "      <td>1726</td>\n",
       "      <td>27</td>\n",
       "      <td>0</td>\n",
       "      <td>0.001959</td>\n",
       "    </tr>\n",
       "    <tr>\n",
       "      <th>3</th>\n",
       "      <td>0.998519</td>\n",
       "      <td>0.986850</td>\n",
       "      <td>1</td>\n",
       "      <td>0.993381</td>\n",
       "      <td>13785</td>\n",
       "      <td>1726</td>\n",
       "      <td>23</td>\n",
       "      <td>0</td>\n",
       "      <td>0.001668</td>\n",
       "    </tr>\n",
       "    <tr>\n",
       "      <th>4</th>\n",
       "      <td>0.998648</td>\n",
       "      <td>0.987979</td>\n",
       "      <td>1</td>\n",
       "      <td>0.993953</td>\n",
       "      <td>13787</td>\n",
       "      <td>1726</td>\n",
       "      <td>21</td>\n",
       "      <td>0</td>\n",
       "      <td>0.001523</td>\n",
       "    </tr>\n",
       "  </tbody>\n",
       "</table>\n",
       "</div>"
      ],
      "text/plain": [
       "   accuracy  precision  recall  f_measure  predicted_norm  pred_anorm  \\\n",
       "0  0.997683   0.979569       1   0.989679           13772        1726   \n",
       "1  0.997747   0.980125       1   0.989963           13773        1726   \n",
       "2  0.998262   0.984598       1   0.992239           13781        1726   \n",
       "3  0.998519   0.986850       1   0.993381           13785        1726   \n",
       "4  0.998648   0.987979       1   0.993953           13787        1726   \n",
       "\n",
       "   False_Pos  False_Neg  false_rate  \n",
       "0         36          0    0.002614  \n",
       "1         35          0    0.002541  \n",
       "2         27          0    0.001959  \n",
       "3         23          0    0.001668  \n",
       "4         21          0    0.001523  "
      ]
     },
     "execution_count": 93,
     "metadata": {},
     "output_type": "execute_result"
    }
   ],
   "source": [
    "df0_result"
   ]
  },
  {
   "cell_type": "code",
   "execution_count": 91,
   "metadata": {},
   "outputs": [
    {
     "data": {
      "text/plain": [
       "accuracy      0.998172\n",
       "precision     0.983824\n",
       "recall        1.000000\n",
       "f_measure     0.991843\n",
       "false_rate    0.002061\n",
       "dtype: float64"
      ]
     },
     "execution_count": 91,
     "metadata": {},
     "output_type": "execute_result"
    }
   ],
   "source": [
    "# get the averaged metrics for Device 0 over five rounds\n",
    "df0=df0_result[['accuracy', 'precision', 'recall', 'f_measure', 'false_rate']].mean()\n",
    "df0"
   ]
  },
  {
   "cell_type": "code",
   "execution_count": 92,
   "metadata": {},
   "outputs": [
    {
     "data": {
      "text/plain": [
       "pandas.core.series.Series"
      ]
     },
     "execution_count": 92,
     "metadata": {},
     "output_type": "execute_result"
    }
   ],
   "source": [
    "# to do: prepare the dataframe of the two clients and the centralized one"
   ]
  },
  {
   "cell_type": "code",
   "execution_count": 140,
   "metadata": {},
   "outputs": [
    {
     "data": {
      "text/html": [
       "<div>\n",
       "<style scoped>\n",
       "    .dataframe tbody tr th:only-of-type {\n",
       "        vertical-align: middle;\n",
       "    }\n",
       "\n",
       "    .dataframe tbody tr th {\n",
       "        vertical-align: top;\n",
       "    }\n",
       "\n",
       "    .dataframe thead th {\n",
       "        text-align: right;\n",
       "    }\n",
       "</style>\n",
       "<table border=\"1\" class=\"dataframe\">\n",
       "  <thead>\n",
       "    <tr style=\"text-align: right;\">\n",
       "      <th></th>\n",
       "      <th>Unnamed: 0</th>\n",
       "      <th>Federated</th>\n",
       "      <th>Unnamed: 2</th>\n",
       "      <th>Centralize</th>\n",
       "    </tr>\n",
       "  </thead>\n",
       "  <tbody>\n",
       "    <tr>\n",
       "      <th>0</th>\n",
       "      <td>NaN</td>\n",
       "      <td>client 0</td>\n",
       "      <td>client 1</td>\n",
       "      <td>NaN</td>\n",
       "    </tr>\n",
       "    <tr>\n",
       "      <th>1</th>\n",
       "      <td>accuracy</td>\n",
       "      <td>0.99897</td>\n",
       "      <td>0.998919</td>\n",
       "      <td>0.99391</td>\n",
       "    </tr>\n",
       "    <tr>\n",
       "      <th>2</th>\n",
       "      <td>precision</td>\n",
       "      <td>0.990818</td>\n",
       "      <td>0.990364</td>\n",
       "      <td>0.99300</td>\n",
       "    </tr>\n",
       "    <tr>\n",
       "      <th>3</th>\n",
       "      <td>recall</td>\n",
       "      <td>1</td>\n",
       "      <td>1</td>\n",
       "      <td>1.00000</td>\n",
       "    </tr>\n",
       "    <tr>\n",
       "      <th>4</th>\n",
       "      <td>f_measure</td>\n",
       "      <td>0.995387</td>\n",
       "      <td>0.995158</td>\n",
       "      <td>0.99300</td>\n",
       "    </tr>\n",
       "    <tr>\n",
       "      <th>5</th>\n",
       "      <td>false_rate</td>\n",
       "      <td>0.00116</td>\n",
       "      <td>0.001218</td>\n",
       "      <td>0.01100</td>\n",
       "    </tr>\n",
       "  </tbody>\n",
       "</table>\n",
       "</div>"
      ],
      "text/plain": [
       "   Unnamed: 0 Federated Unnamed: 2  Centralize\n",
       "0         NaN  client 0   client 1         NaN\n",
       "1    accuracy   0.99897   0.998919     0.99391\n",
       "2   precision  0.990818   0.990364     0.99300\n",
       "3      recall         1          1     1.00000\n",
       "4   f_measure  0.995387   0.995158     0.99300\n",
       "5  false_rate   0.00116   0.001218     0.01100"
      ]
     },
     "execution_count": 140,
     "metadata": {},
     "output_type": "execute_result"
    }
   ],
   "source": [
    "pd.read_excel('../metrics.xlsx')"
   ]
  },
  {
   "cell_type": "code",
   "execution_count": 157,
   "metadata": {},
   "outputs": [
    {
     "data": {
      "image/png": "[encoded data removed]",
      "text/plain": [
       "<Figure size 720x504 with 1 Axes>"
      ]
     },
     "metadata": {},
     "output_type": "display_data"
    }
   ],
   "source": [
    "overal_metrics_data={'Average_Fed':[0.998,0.986,1,0.9925,0.00169],\n",
    "'Centralize': [0.997,0.999,1,0.999,0.004923]}\n",
    "indixes=['accuracy','precision','recall','f_measure','false_rate']\n",
    "overal_perf_metris= pd.DataFrame(data=overal_metrics_data,columns=['Average_Fed','Centralize'], index=indixes )\n",
    "overal_perf_metris.to_csv('Overall Performance metrics.csv')\n",
    "overal_perf_metris.loc[['accuracy','precision','recall','f_measure']].plot(kind='bar',figsize=(10, 7),\n",
    "            rot=45, ylim=[0.95,1.0]).get_figure().savefig('train_final.jpeg')\n",
    "plt.title('Metric centrized vs Federated', fontsize=14,fontstyle='italic')\n",
    "plt.ylabel('Percentage for each metric',fontsize=14,fontstyle='italic')\n",
    "plt.show()\n"
   ]
  },
  {
   "cell_type": "code",
   "execution_count": 186,
   "metadata": {},
   "outputs": [
    {
     "data": {
      "text/plain": [
       "<AxesSubplot:>"
      ]
     },
     "execution_count": 186,
     "metadata": {},
     "output_type": "execute_result"
    },
    {
     "data": {
      "image/png": "[encoded data removed]",
      "text/plain": [
       "<Figure size 432x288 with 1 Axes>"
      ]
     },
     "metadata": {},
     "output_type": "display_data"
    }
   ],
   "source": [
    "total_accuracy=[{'client_0':0.99897},\n",
    "\t{'client_1':0.998919},\n",
    "    {'Centralize':0.99391}]\n",
    "accuracy_data=pd.DataFrame(total_accuracy,index=['federated_client_0','federated_client_1','Centralize']).fillna(0)\n",
    "# accuracy_data\n",
    "# total_accuracy1=[0.99897,0.998919,0.99391]\n",
    "# accuracy_data=pd.DataFrame(total_accuracy1, columns=['score'] ,index=['federated_client_0','federated_client_1','Centralize'])\n",
    "accuracy_data.plot(kind='bar', rot=45)\n"
   ]
  },
  {
   "cell_type": "code",
   "execution_count": 3,
   "metadata": {},
   "outputs": [
    {
     "data": {
      "text/html": [
       "<div>\n",
       "<style scoped>\n",
       "    .dataframe tbody tr th:only-of-type {\n",
       "        vertical-align: middle;\n",
       "    }\n",
       "\n",
       "    .dataframe tbody tr th {\n",
       "        vertical-align: top;\n",
       "    }\n",
       "\n",
       "    .dataframe thead th {\n",
       "        text-align: right;\n",
       "    }\n",
       "</style>\n",
       "<table border=\"1\" class=\"dataframe\">\n",
       "  <thead>\n",
       "    <tr style=\"text-align: right;\">\n",
       "      <th></th>\n",
       "      <th>dataset</th>\n",
       "      <th>n_samples</th>\n",
       "      <th>fl_round</th>\n",
       "      <th>train_loss</th>\n",
       "      <th>val_loss</th>\n",
       "      <th>norm_test_loss</th>\n",
       "      <th>train_accuracy</th>\n",
       "      <th>False_Positive</th>\n",
       "      <th>False_Positive_rate</th>\n",
       "      <th>threshold</th>\n",
       "    </tr>\n",
       "  </thead>\n",
       "  <tbody>\n",
       "    <tr>\n",
       "      <th>0</th>\n",
       "      <td>13808</td>\n",
       "      <td>13808</td>\n",
       "      <td>1</td>\n",
       "      <td>[7.015826585749003, 3.658622748424598, 3.27146...</td>\n",
       "      <td>[2.733980654206813, 2.252751107982695, 1.91242...</td>\n",
       "      <td>[1.948876857757568, 0.9834929704666131, 0.9641...</td>\n",
       "      <td>0.998769</td>\n",
       "      <td>17</td>\n",
       "      <td>0.001231</td>\n",
       "      <td>4.553148</td>\n",
       "    </tr>\n",
       "    <tr>\n",
       "      <th>1</th>\n",
       "      <td>13808</td>\n",
       "      <td>13808</td>\n",
       "      <td>2</td>\n",
       "      <td>[2.897352707802144, 2.7720871484068983, 2.6661...</td>\n",
       "      <td>[1.352604542303126, 1.3463994311416991, 1.1563...</td>\n",
       "      <td>[1.8043568134307861, 0.838295102119445, 0.9103...</td>\n",
       "      <td>0.980519</td>\n",
       "      <td>269</td>\n",
       "      <td>0.019481</td>\n",
       "      <td>2.712598</td>\n",
       "    </tr>\n",
       "    <tr>\n",
       "      <th>2</th>\n",
       "      <td>13808</td>\n",
       "      <td>13808</td>\n",
       "      <td>3</td>\n",
       "      <td>[2.797204568166273, 2.799535842377127, 2.64354...</td>\n",
       "      <td>[1.260912065997478, 1.3010152416349081, 1.2593...</td>\n",
       "      <td>[1.71985638141632, 0.807916641235351, 0.808867...</td>\n",
       "      <td>0.981460</td>\n",
       "      <td>256</td>\n",
       "      <td>0.018540</td>\n",
       "      <td>2.672148</td>\n",
       "    </tr>\n",
       "    <tr>\n",
       "      <th>3</th>\n",
       "      <td>13808</td>\n",
       "      <td>13808</td>\n",
       "      <td>4</td>\n",
       "      <td>[2.802896573043159, 2.740613326469171, 2.60273...</td>\n",
       "      <td>[1.334677865791327, 1.206237840639947, 1.14982...</td>\n",
       "      <td>[1.681719779968261, 0.7515403032302851, 0.8352...</td>\n",
       "      <td>0.982619</td>\n",
       "      <td>240</td>\n",
       "      <td>0.017381</td>\n",
       "      <td>2.649889</td>\n",
       "    </tr>\n",
       "    <tr>\n",
       "      <th>4</th>\n",
       "      <td>13808</td>\n",
       "      <td>13808</td>\n",
       "      <td>5</td>\n",
       "      <td>[2.813461425739016, 2.719409104134469, 2.61764...</td>\n",
       "      <td>[1.385973209961989, 1.197801986638012, 1.20797...</td>\n",
       "      <td>[1.662917137145996, 0.830601930618286, 0.85483...</td>\n",
       "      <td>0.980736</td>\n",
       "      <td>266</td>\n",
       "      <td>0.019264</td>\n",
       "      <td>2.646238</td>\n",
       "    </tr>\n",
       "  </tbody>\n",
       "</table>\n",
       "</div>"
      ],
      "text/plain": [
       "   dataset  n_samples  fl_round  \\\n",
       "0    13808      13808         1   \n",
       "1    13808      13808         2   \n",
       "2    13808      13808         3   \n",
       "3    13808      13808         4   \n",
       "4    13808      13808         5   \n",
       "\n",
       "                                          train_loss  \\\n",
       "0  [7.015826585749003, 3.658622748424598, 3.27146...   \n",
       "1  [2.897352707802144, 2.7720871484068983, 2.6661...   \n",
       "2  [2.797204568166273, 2.799535842377127, 2.64354...   \n",
       "3  [2.802896573043159, 2.740613326469171, 2.60273...   \n",
       "4  [2.813461425739016, 2.719409104134469, 2.61764...   \n",
       "\n",
       "                                            val_loss  \\\n",
       "0  [2.733980654206813, 2.252751107982695, 1.91242...   \n",
       "1  [1.352604542303126, 1.3463994311416991, 1.1563...   \n",
       "2  [1.260912065997478, 1.3010152416349081, 1.2593...   \n",
       "3  [1.334677865791327, 1.206237840639947, 1.14982...   \n",
       "4  [1.385973209961989, 1.197801986638012, 1.20797...   \n",
       "\n",
       "                                      norm_test_loss  train_accuracy  \\\n",
       "0  [1.948876857757568, 0.9834929704666131, 0.9641...        0.998769   \n",
       "1  [1.8043568134307861, 0.838295102119445, 0.9103...        0.980519   \n",
       "2  [1.71985638141632, 0.807916641235351, 0.808867...        0.981460   \n",
       "3  [1.681719779968261, 0.7515403032302851, 0.8352...        0.982619   \n",
       "4  [1.662917137145996, 0.830601930618286, 0.85483...        0.980736   \n",
       "\n",
       "   False_Positive  False_Positive_rate  threshold  \n",
       "0              17             0.001231   4.553148  \n",
       "1             269             0.019481   2.712598  \n",
       "2             256             0.018540   2.672148  \n",
       "3             240             0.017381   2.649889  \n",
       "4             266             0.019264   2.646238  "
      ]
     },
     "execution_count": 3,
     "metadata": {},
     "output_type": "execute_result"
    }
   ],
   "source": [
    "pd.read_json('../results/0_results.json')"
   ]
  },
  {
   "cell_type": "code",
   "execution_count": 150,
   "metadata": {},
   "outputs": [
    {
     "data": {
      "image/png": "[encoded data removed]",
      "text/plain": [
       "<Figure size 720x504 with 1 Axes>"
      ]
     },
     "metadata": {},
     "output_type": "display_data"
    }
   ],
   "source": [
    "# preporcessing the results of the second client's training results\n",
    "df_client_1= pd.read_json('../results/1_results.json')\n",
    "df=df_client_1.explode('train_loss').reset_index(drop=True)\n",
    "data1=df_client_1[['dataset', 'n_samples', 'fl_round', 'train_loss', 'val_loss', 'train_accuracy', 'False_Positive',\n",
    "       'False_Positive_rate', 'threshold']]\n",
    "df1=data1.apply(pd.Series.explode).reset_index(drop=True)\n",
    "df1[['train_loss','val_loss']]=df1[['train_loss','val_loss']].astype('float64')\n",
    "df1[['train_loss','val_loss','threshold']].plot(figsize=(10, 7)).get_figure().savefig('train_device1')\n",
    "# ig= df_history_mae.iloc[:49,:].plot(figsize=(10, 7)).get_figure().savefig('train')\n",
    "plt.xlabel('Number of epoch after 5 rounds')\n",
    "plt.ylabel('LOSS')\n",
    "plt.title('Training loss Device1')\n",
    "\n",
    "plt.show()\n",
    "# df1"
   ]
  },
  {
   "cell_type": "code",
   "execution_count": 217,
   "metadata": {},
   "outputs": [
    {
     "data": {
      "text/plain": [
       "16"
      ]
     },
     "execution_count": 217,
     "metadata": {},
     "output_type": "execute_result"
    }
   ],
   "source": [
    "# use the train loss of client one to calculate number of false positives\n",
    "df_client_1= pd.read_json('../results/1_results.json')\n",
    "data_clinet1=df_client_1[[ 'fl_round','norm_test_loss', 'train_accuracy', 'False_Positive','False_Positive_rate',\n",
    " 'threshold']]\n",
    "df_client_1=data_clinet1.explode('norm_test_loss').reset_index(drop=True)\n",
    "df_client_1\n",
    "int(sum([i >4.004559 for i  in df_client_1['norm_test_loss']])/5)\n"
   ]
  },
  {
   "cell_type": "code",
   "execution_count": 154,
   "metadata": {},
   "outputs": [
    {
     "data": {
      "image/png": "[encoded data removed]",
      "text/plain": [
       "<Figure size 648x504 with 1 Axes>"
      ]
     },
     "metadata": {},
     "output_type": "display_data"
    }
   ],
   "source": [
    "# preporcessing the results of the first client's training results\n",
    "df_client_0= pd.read_json('../results/0_results.json')\n",
    "df=df_client_0.explode('train_loss').reset_index(drop=True)\n",
    "data=df_client_0[['dataset', 'n_samples', 'fl_round', 'train_loss', 'val_loss', 'train_accuracy', 'False_Positive',\n",
    "       'False_Positive_rate', 'threshold']]\n",
    "df0=data.apply(pd.Series.explode).reset_index(drop=True)\n",
    "df0[['train_loss','val_loss']]=df0[['train_loss','val_loss']].astype('float64')\n",
    "# df0[['train_loss','val_loss','threshold']].plot()\n",
    "df0[['train_loss','val_loss','threshold']].plot(figsize=(9, 7)).get_figure().savefig('train_device0')\n",
    "# ig= df_history_mae.iloc[:49,:].plot(figsize=(10, 7)).get_figure().savefig('train')\n",
    "plt.xlabel('Number of epoch after 5 rounds')\n",
    "plt.ylabel('LOSS')\n",
    "plt.title('Training loss Device_0')\n",
    "\n",
    "plt.show()\n"
   ]
  },
  {
   "cell_type": "code",
   "execution_count": 218,
   "metadata": {},
   "outputs": [
    {
     "data": {
      "text/plain": [
       "16"
      ]
     },
     "execution_count": 218,
     "metadata": {},
     "output_type": "execute_result"
    }
   ],
   "source": [
    "# use the train loss of client one to calculate number of false positives\n",
    "df_client_0= pd.read_json('../results/0_results.json')\n",
    "data_clinet_0=df_client_0[[ 'fl_round','norm_test_loss', 'train_accuracy', 'False_Positive','False_Positive_rate',\n",
    " 'threshold']]\n",
    "df_client_0=data_clinet_0.explode('norm_test_loss').reset_index(drop=True)\n",
    "df_client_0\n",
    "int(sum([i > 4.553148  for i  in df_client_0['norm_test_loss']])/5)"
   ]
  },
  {
   "cell_type": "code",
   "execution_count": 5,
   "metadata": {},
   "outputs": [],
   "source": [
    "import json\n",
    "train_step_number = []\n",
    "train_loss = []\n",
    "val_loss=[]\n",
    "# fedbn_step_number = []\n",
    "# fedbn_loss = []\n",
    "def get_evaluation_numbers(n):\n",
    "    \"\"\"Open the json files to get the evaluation results.\"\"\"\n",
    "   \n",
    "    with open(f\"results/{n}_results.json\") as train_file:\n",
    "        train_loss_list = json.load(train_file)\n",
    "        print(train_loss_list)\n",
    "    # with open(\"results/SVHN_fedbn_results.json\") as fedbn_file:\n",
    "    #     fedbn_list = json.load(fedbn_file)\n",
    "    for item in train_loss_list:\n",
    "        if \"train_loss\" in item:\n",
    "            train_step_number.append(item[\"fl_round\"])\n",
    "            train_loss.append(item[\"train_loss\"])\n",
    "            val_loss.append(item['val_loss'])\n",
    "    # for item in fedbn_list:\n",
    "    #     if \"train_loss\" in item:\n",
    "    #         fedbn_step_number.append(item[\"fl_round\"])\n",
    "    #         fedbn_loss.append(item[\"train_loss\"])\n",
    "def main(n):\n",
    "    \"\"\"Plot evaluation results.\"\"\"\n",
    "    get_evaluation_numbers(n)\n",
    "    # pylint: disable= unused-variable, invalid-name\n",
    "    fig, ax = plt.subplots()\n",
    "    traing = ax.plot(train_step_number, train_loss, label=\"train_loss\")\n",
    "    validation = ax.plot(train_step_number, val_loss, label=\"val_loss\")\n",
    "    ax.legend()\n",
    "    # plt.axis([ 0.1, 2.5])\n",
    "    plt.ylabel(\"Training loss\")\n",
    "    plt.xlabel(\"Number of FL round\")\n",
    "    plt.title(\"Training loss \")\n",
    "    plt.savefig(\"Training_loss_federated.png\")"
   ]
  },
  {
   "cell_type": "code",
   "execution_count": 10,
   "metadata": {},
   "outputs": [
    {
     "name": "stdout",
     "output_type": "stream",
     "text": [
      "10\n"
     ]
    }
   ],
   "source": [
    "\n",
    "with open(f\"results/{0}_results.json\") as train_file:\n",
    "        train_loss_list = json.load(train_file)\n",
    "        print(len(train_loss_list[0]['train_loss']))"
   ]
  },
  {
   "cell_type": "code",
   "execution_count": 14,
   "metadata": {},
   "outputs": [
    {
     "name": "stdout",
     "output_type": "stream",
     "text": [
      "[{'dataset': 13808, 'fl_round': 1, 'train_loss': [0.9687642446713175, 0.18754462237258873], 'val_loss': [0.10879907991547194, 0.0726362121609004], 'train_accuracy': 0.00014484356894553882, 'norm_pred': 2, 'False_Positive': 0, 'False_Positive_rate': 0.0}, {'dataset': 13808, 'fl_round': 2, 'train_loss': [0.12069013122785383, 0.08071218968226347], 'val_loss': [0.06627155509510273, 0.04196398693062948], 'train_accuracy': 0.00014484356894553882, 'norm_pred': 2, 'False_Positive': 0, 'False_Positive_rate': 0.0}]\n",
      "[1, 2]\n",
      "[[0.9687642446713175, 0.18754462237258873], [0.12069013122785383, 0.08071218968226347]]\n"
     ]
    },
    {
     "data": {
      "text/plain": [
       "[[0.10879907991547194, 0.0726362121609004],\n",
       " [0.06627155509510273, 0.04196398693062948]]"
      ]
     },
     "execution_count": 14,
     "metadata": {},
     "output_type": "execute_result"
    }
   ],
   "source": [
    "get_evaluation_numbers(0)\n",
    "print(train_step_number)\n",
    "\n",
    "print(train_loss )\n",
    "val_loss"
   ]
  },
  {
   "cell_type": "code",
   "execution_count": 219,
   "metadata": {},
   "outputs": [
    {
     "data": {
      "text/plain": [
       "'data/partitions/1/checkpoint1.pth.tar'"
      ]
     },
     "execution_count": 219,
     "metadata": {},
     "output_type": "execute_result"
    }
   ],
   "source": [
    "cid_n=1\n",
    "f'data/partitions/{cid_n}/checkpoint1.pth.tar'"
   ]
  }
 ],
 "metadata": {
  "kernelspec": {
   "display_name": "Python 3",
   "language": "python",
   "name": "python3"
  },
  "language_info": {
   "codemirror_mode": {
    "name": "ipython",
    "version": 3
   },
   "file_extension": ".py",
   "mimetype": "text/x-python",
   "name": "python",
   "nbconvert_exporter": "python",
   "pygments_lexer": "ipython3",
   "version": "3.8.3"
  },
  "vscode": {
   "interpreter": {
    "hash": "0adcc2737ebf6a4a119f135174df96668767fca1ef1112612db5ecadf2b6d608"
   }
  }
 },
 "nbformat": 4,
 "nbformat_minor": 2
}
